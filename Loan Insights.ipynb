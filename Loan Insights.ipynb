{
 "cells": [
  {
   "cell_type": "code",
   "execution_count": 1,
   "metadata": {
    "executionInfo": {
     "elapsed": 1270,
     "status": "ok",
     "timestamp": 1753352365806,
     "user": {
      "displayName": "Bhishmadev Naskar",
      "userId": "11287888678306979437"
     },
     "user_tz": -330
    },
    "id": "M8aNUEDr8C26"
   },
   "outputs": [],
   "source": [
    "import pandas as pd\n",
    "import seaborn as sns\n",
    "import matplotlib.pyplot as plt\n",
    "import plotly.express as px"
   ]
  },
  {
   "cell_type": "code",
   "execution_count": 2,
   "metadata": {
    "executionInfo": {
     "elapsed": 282,
     "status": "ok",
     "timestamp": 1753352418131,
     "user": {
      "displayName": "Bhishmadev Naskar",
      "userId": "11287888678306979437"
     },
     "user_tz": -330
    },
    "id": "5nXtmOZp8eCc"
   },
   "outputs": [],
   "source": [
    "df = pd.read_csv('financial_loan.csv')"
   ]
  },
  {
   "cell_type": "code",
   "execution_count": 3,
   "metadata": {
    "colab": {
     "base_uri": "https://localhost:8080/"
    },
    "executionInfo": {
     "elapsed": 9,
     "status": "ok",
     "timestamp": 1753352422756,
     "user": {
      "displayName": "Bhishmadev Naskar",
      "userId": "11287888678306979437"
     },
     "user_tz": -330
    },
    "id": "WDWnzCVS8rDl",
    "outputId": "0722f0dd-4de9-4090-f092-4b80601cb040"
   },
   "outputs": [
    {
     "data": {
      "text/plain": [
       "(38576, 24)"
      ]
     },
     "execution_count": 3,
     "metadata": {},
     "output_type": "execute_result"
    }
   ],
   "source": [
    "df.shape"
   ]
  },
  {
   "cell_type": "code",
   "execution_count": 4,
   "metadata": {
    "colab": {
     "base_uri": "https://localhost:8080/",
     "height": 360
    },
    "executionInfo": {
     "elapsed": 109,
     "status": "ok",
     "timestamp": 1753352910497,
     "user": {
      "displayName": "Bhishmadev Naskar",
      "userId": "11287888678306979437"
     },
     "user_tz": -330
    },
    "id": "sFUVeMPm8sQU",
    "outputId": "6379635e-b3f6-49c7-da1f-b89247b4f384"
   },
   "outputs": [
    {
     "data": {
      "text/html": [
       "<div>\n",
       "<style scoped>\n",
       "    .dataframe tbody tr th:only-of-type {\n",
       "        vertical-align: middle;\n",
       "    }\n",
       "\n",
       "    .dataframe tbody tr th {\n",
       "        vertical-align: top;\n",
       "    }\n",
       "\n",
       "    .dataframe thead th {\n",
       "        text-align: right;\n",
       "    }\n",
       "</style>\n",
       "<table border=\"1\" class=\"dataframe\">\n",
       "  <thead>\n",
       "    <tr style=\"text-align: right;\">\n",
       "      <th></th>\n",
       "      <th>id</th>\n",
       "      <th>address_state</th>\n",
       "      <th>application_type</th>\n",
       "      <th>emp_length</th>\n",
       "      <th>emp_title</th>\n",
       "      <th>grade</th>\n",
       "      <th>home_ownership</th>\n",
       "      <th>issue_date</th>\n",
       "      <th>last_credit_pull_date</th>\n",
       "      <th>last_payment_date</th>\n",
       "      <th>...</th>\n",
       "      <th>sub_grade</th>\n",
       "      <th>term</th>\n",
       "      <th>verification_status</th>\n",
       "      <th>annual_income</th>\n",
       "      <th>dti</th>\n",
       "      <th>installment</th>\n",
       "      <th>int_rate</th>\n",
       "      <th>loan_amount</th>\n",
       "      <th>total_acc</th>\n",
       "      <th>total_payment</th>\n",
       "    </tr>\n",
       "  </thead>\n",
       "  <tbody>\n",
       "    <tr>\n",
       "      <th>0</th>\n",
       "      <td>1077430</td>\n",
       "      <td>GA</td>\n",
       "      <td>INDIVIDUAL</td>\n",
       "      <td>&lt; 1 year</td>\n",
       "      <td>Ryder</td>\n",
       "      <td>C</td>\n",
       "      <td>RENT</td>\n",
       "      <td>11-02-2021</td>\n",
       "      <td>13-09-2021</td>\n",
       "      <td>13-04-2021</td>\n",
       "      <td>...</td>\n",
       "      <td>C4</td>\n",
       "      <td>60 months</td>\n",
       "      <td>Source Verified</td>\n",
       "      <td>30000.0</td>\n",
       "      <td>0.0100</td>\n",
       "      <td>59.83</td>\n",
       "      <td>0.1527</td>\n",
       "      <td>2500</td>\n",
       "      <td>4</td>\n",
       "      <td>1009</td>\n",
       "    </tr>\n",
       "    <tr>\n",
       "      <th>1</th>\n",
       "      <td>1072053</td>\n",
       "      <td>CA</td>\n",
       "      <td>INDIVIDUAL</td>\n",
       "      <td>9 years</td>\n",
       "      <td>MKC Accounting</td>\n",
       "      <td>E</td>\n",
       "      <td>RENT</td>\n",
       "      <td>01-01-2021</td>\n",
       "      <td>14-12-2021</td>\n",
       "      <td>15-01-2021</td>\n",
       "      <td>...</td>\n",
       "      <td>E1</td>\n",
       "      <td>36 months</td>\n",
       "      <td>Source Verified</td>\n",
       "      <td>48000.0</td>\n",
       "      <td>0.0535</td>\n",
       "      <td>109.43</td>\n",
       "      <td>0.1864</td>\n",
       "      <td>3000</td>\n",
       "      <td>4</td>\n",
       "      <td>3939</td>\n",
       "    </tr>\n",
       "    <tr>\n",
       "      <th>2</th>\n",
       "      <td>1069243</td>\n",
       "      <td>CA</td>\n",
       "      <td>INDIVIDUAL</td>\n",
       "      <td>4 years</td>\n",
       "      <td>Chemat Technology Inc</td>\n",
       "      <td>C</td>\n",
       "      <td>RENT</td>\n",
       "      <td>05-01-2021</td>\n",
       "      <td>12-12-2021</td>\n",
       "      <td>09-01-2021</td>\n",
       "      <td>...</td>\n",
       "      <td>C5</td>\n",
       "      <td>36 months</td>\n",
       "      <td>Not Verified</td>\n",
       "      <td>50000.0</td>\n",
       "      <td>0.2088</td>\n",
       "      <td>421.65</td>\n",
       "      <td>0.1596</td>\n",
       "      <td>12000</td>\n",
       "      <td>11</td>\n",
       "      <td>3522</td>\n",
       "    </tr>\n",
       "    <tr>\n",
       "      <th>3</th>\n",
       "      <td>1041756</td>\n",
       "      <td>TX</td>\n",
       "      <td>INDIVIDUAL</td>\n",
       "      <td>&lt; 1 year</td>\n",
       "      <td>barnes distribution</td>\n",
       "      <td>B</td>\n",
       "      <td>MORTGAGE</td>\n",
       "      <td>25-02-2021</td>\n",
       "      <td>12-12-2021</td>\n",
       "      <td>12-03-2021</td>\n",
       "      <td>...</td>\n",
       "      <td>B2</td>\n",
       "      <td>60 months</td>\n",
       "      <td>Source Verified</td>\n",
       "      <td>42000.0</td>\n",
       "      <td>0.0540</td>\n",
       "      <td>97.06</td>\n",
       "      <td>0.1065</td>\n",
       "      <td>4500</td>\n",
       "      <td>9</td>\n",
       "      <td>4911</td>\n",
       "    </tr>\n",
       "    <tr>\n",
       "      <th>4</th>\n",
       "      <td>1068350</td>\n",
       "      <td>IL</td>\n",
       "      <td>INDIVIDUAL</td>\n",
       "      <td>10+ years</td>\n",
       "      <td>J&amp;J Steel Inc</td>\n",
       "      <td>A</td>\n",
       "      <td>MORTGAGE</td>\n",
       "      <td>01-01-2021</td>\n",
       "      <td>14-12-2021</td>\n",
       "      <td>15-01-2021</td>\n",
       "      <td>...</td>\n",
       "      <td>A1</td>\n",
       "      <td>36 months</td>\n",
       "      <td>Verified</td>\n",
       "      <td>83000.0</td>\n",
       "      <td>0.0231</td>\n",
       "      <td>106.53</td>\n",
       "      <td>0.0603</td>\n",
       "      <td>3500</td>\n",
       "      <td>28</td>\n",
       "      <td>3835</td>\n",
       "    </tr>\n",
       "  </tbody>\n",
       "</table>\n",
       "<p>5 rows × 24 columns</p>\n",
       "</div>"
      ],
      "text/plain": [
       "        id address_state application_type emp_length              emp_title  \\\n",
       "0  1077430            GA       INDIVIDUAL   < 1 year                  Ryder   \n",
       "1  1072053            CA       INDIVIDUAL    9 years         MKC Accounting   \n",
       "2  1069243            CA       INDIVIDUAL    4 years  Chemat Technology Inc   \n",
       "3  1041756            TX       INDIVIDUAL   < 1 year    barnes distribution   \n",
       "4  1068350            IL       INDIVIDUAL  10+ years          J&J Steel Inc   \n",
       "\n",
       "  grade home_ownership  issue_date last_credit_pull_date last_payment_date  \\\n",
       "0     C           RENT  11-02-2021            13-09-2021        13-04-2021   \n",
       "1     E           RENT  01-01-2021            14-12-2021        15-01-2021   \n",
       "2     C           RENT  05-01-2021            12-12-2021        09-01-2021   \n",
       "3     B       MORTGAGE  25-02-2021            12-12-2021        12-03-2021   \n",
       "4     A       MORTGAGE  01-01-2021            14-12-2021        15-01-2021   \n",
       "\n",
       "   ... sub_grade        term  verification_status annual_income     dti  \\\n",
       "0  ...        C4   60 months      Source Verified       30000.0  0.0100   \n",
       "1  ...        E1   36 months      Source Verified       48000.0  0.0535   \n",
       "2  ...        C5   36 months         Not Verified       50000.0  0.2088   \n",
       "3  ...        B2   60 months      Source Verified       42000.0  0.0540   \n",
       "4  ...        A1   36 months             Verified       83000.0  0.0231   \n",
       "\n",
       "  installment int_rate  loan_amount  total_acc  total_payment  \n",
       "0       59.83   0.1527         2500          4           1009  \n",
       "1      109.43   0.1864         3000          4           3939  \n",
       "2      421.65   0.1596        12000         11           3522  \n",
       "3       97.06   0.1065         4500          9           4911  \n",
       "4      106.53   0.0603         3500         28           3835  \n",
       "\n",
       "[5 rows x 24 columns]"
      ]
     },
     "execution_count": 4,
     "metadata": {},
     "output_type": "execute_result"
    }
   ],
   "source": [
    "df.head()"
   ]
  },
  {
   "cell_type": "code",
   "execution_count": 5,
   "metadata": {
    "colab": {
     "base_uri": "https://localhost:8080/",
     "height": 394
    },
    "executionInfo": {
     "elapsed": 91,
     "status": "ok",
     "timestamp": 1753353069033,
     "user": {
      "displayName": "Bhishmadev Naskar",
      "userId": "11287888678306979437"
     },
     "user_tz": -330
    },
    "id": "30j_Gaez-jO9",
    "outputId": "7cb5e2a4-9c8a-450f-d97d-b4e6c72658d4"
   },
   "outputs": [
    {
     "data": {
      "text/html": [
       "<div>\n",
       "<style scoped>\n",
       "    .dataframe tbody tr th:only-of-type {\n",
       "        vertical-align: middle;\n",
       "    }\n",
       "\n",
       "    .dataframe tbody tr th {\n",
       "        vertical-align: top;\n",
       "    }\n",
       "\n",
       "    .dataframe thead th {\n",
       "        text-align: right;\n",
       "    }\n",
       "</style>\n",
       "<table border=\"1\" class=\"dataframe\">\n",
       "  <thead>\n",
       "    <tr style=\"text-align: right;\">\n",
       "      <th></th>\n",
       "      <th>id</th>\n",
       "      <th>address_state</th>\n",
       "      <th>application_type</th>\n",
       "      <th>emp_length</th>\n",
       "      <th>emp_title</th>\n",
       "      <th>grade</th>\n",
       "      <th>home_ownership</th>\n",
       "      <th>issue_date</th>\n",
       "      <th>last_credit_pull_date</th>\n",
       "      <th>last_payment_date</th>\n",
       "      <th>...</th>\n",
       "      <th>sub_grade</th>\n",
       "      <th>term</th>\n",
       "      <th>verification_status</th>\n",
       "      <th>annual_income</th>\n",
       "      <th>dti</th>\n",
       "      <th>installment</th>\n",
       "      <th>int_rate</th>\n",
       "      <th>loan_amount</th>\n",
       "      <th>total_acc</th>\n",
       "      <th>total_payment</th>\n",
       "    </tr>\n",
       "  </thead>\n",
       "  <tbody>\n",
       "    <tr>\n",
       "      <th>38571</th>\n",
       "      <td>803452</td>\n",
       "      <td>NJ</td>\n",
       "      <td>INDIVIDUAL</td>\n",
       "      <td>&lt; 1 year</td>\n",
       "      <td>Joseph M Sanzari Company</td>\n",
       "      <td>C</td>\n",
       "      <td>MORTGAGE</td>\n",
       "      <td>11-07-2021</td>\n",
       "      <td>16-05-2021</td>\n",
       "      <td>16-05-2021</td>\n",
       "      <td>...</td>\n",
       "      <td>C1</td>\n",
       "      <td>60 months</td>\n",
       "      <td>Verified</td>\n",
       "      <td>100000.0</td>\n",
       "      <td>0.1986</td>\n",
       "      <td>551.64</td>\n",
       "      <td>0.1299</td>\n",
       "      <td>24250</td>\n",
       "      <td>33</td>\n",
       "      <td>31946</td>\n",
       "    </tr>\n",
       "    <tr>\n",
       "      <th>38572</th>\n",
       "      <td>970377</td>\n",
       "      <td>NY</td>\n",
       "      <td>INDIVIDUAL</td>\n",
       "      <td>8 years</td>\n",
       "      <td>Swat Fame</td>\n",
       "      <td>C</td>\n",
       "      <td>RENT</td>\n",
       "      <td>11-10-2021</td>\n",
       "      <td>16-04-2021</td>\n",
       "      <td>16-05-2021</td>\n",
       "      <td>...</td>\n",
       "      <td>C1</td>\n",
       "      <td>60 months</td>\n",
       "      <td>Verified</td>\n",
       "      <td>50000.0</td>\n",
       "      <td>0.0458</td>\n",
       "      <td>579.72</td>\n",
       "      <td>0.1349</td>\n",
       "      <td>25200</td>\n",
       "      <td>18</td>\n",
       "      <td>31870</td>\n",
       "    </tr>\n",
       "    <tr>\n",
       "      <th>38573</th>\n",
       "      <td>875376</td>\n",
       "      <td>CA</td>\n",
       "      <td>INDIVIDUAL</td>\n",
       "      <td>5 years</td>\n",
       "      <td>Anaheim Regional Medical Center</td>\n",
       "      <td>D</td>\n",
       "      <td>RENT</td>\n",
       "      <td>11-09-2021</td>\n",
       "      <td>16-05-2021</td>\n",
       "      <td>16-05-2021</td>\n",
       "      <td>...</td>\n",
       "      <td>D5</td>\n",
       "      <td>60 months</td>\n",
       "      <td>Verified</td>\n",
       "      <td>65000.0</td>\n",
       "      <td>0.1734</td>\n",
       "      <td>627.93</td>\n",
       "      <td>0.1749</td>\n",
       "      <td>25000</td>\n",
       "      <td>20</td>\n",
       "      <td>35721</td>\n",
       "    </tr>\n",
       "    <tr>\n",
       "      <th>38574</th>\n",
       "      <td>972997</td>\n",
       "      <td>NY</td>\n",
       "      <td>INDIVIDUAL</td>\n",
       "      <td>5 years</td>\n",
       "      <td>Brooklyn Radiology</td>\n",
       "      <td>D</td>\n",
       "      <td>RENT</td>\n",
       "      <td>11-10-2021</td>\n",
       "      <td>16-05-2021</td>\n",
       "      <td>16-05-2021</td>\n",
       "      <td>...</td>\n",
       "      <td>D5</td>\n",
       "      <td>60 months</td>\n",
       "      <td>Verified</td>\n",
       "      <td>368000.0</td>\n",
       "      <td>0.0009</td>\n",
       "      <td>612.72</td>\n",
       "      <td>0.1825</td>\n",
       "      <td>24000</td>\n",
       "      <td>9</td>\n",
       "      <td>33677</td>\n",
       "    </tr>\n",
       "    <tr>\n",
       "      <th>38575</th>\n",
       "      <td>682952</td>\n",
       "      <td>NY</td>\n",
       "      <td>INDIVIDUAL</td>\n",
       "      <td>4 years</td>\n",
       "      <td>Allen Edmonds</td>\n",
       "      <td>F</td>\n",
       "      <td>RENT</td>\n",
       "      <td>11-07-2021</td>\n",
       "      <td>16-05-2021</td>\n",
       "      <td>16-05-2021</td>\n",
       "      <td>...</td>\n",
       "      <td>F3</td>\n",
       "      <td>60 months</td>\n",
       "      <td>Verified</td>\n",
       "      <td>80000.0</td>\n",
       "      <td>0.0600</td>\n",
       "      <td>486.86</td>\n",
       "      <td>0.2099</td>\n",
       "      <td>18000</td>\n",
       "      <td>7</td>\n",
       "      <td>27679</td>\n",
       "    </tr>\n",
       "  </tbody>\n",
       "</table>\n",
       "<p>5 rows × 24 columns</p>\n",
       "</div>"
      ],
      "text/plain": [
       "           id address_state application_type emp_length  \\\n",
       "38571  803452            NJ       INDIVIDUAL   < 1 year   \n",
       "38572  970377            NY       INDIVIDUAL    8 years   \n",
       "38573  875376            CA       INDIVIDUAL    5 years   \n",
       "38574  972997            NY       INDIVIDUAL    5 years   \n",
       "38575  682952            NY       INDIVIDUAL    4 years   \n",
       "\n",
       "                             emp_title grade home_ownership  issue_date  \\\n",
       "38571         Joseph M Sanzari Company     C       MORTGAGE  11-07-2021   \n",
       "38572                        Swat Fame     C           RENT  11-10-2021   \n",
       "38573  Anaheim Regional Medical Center     D           RENT  11-09-2021   \n",
       "38574               Brooklyn Radiology     D           RENT  11-10-2021   \n",
       "38575                    Allen Edmonds     F           RENT  11-07-2021   \n",
       "\n",
       "      last_credit_pull_date last_payment_date  ... sub_grade        term  \\\n",
       "38571            16-05-2021        16-05-2021  ...        C1   60 months   \n",
       "38572            16-04-2021        16-05-2021  ...        C1   60 months   \n",
       "38573            16-05-2021        16-05-2021  ...        D5   60 months   \n",
       "38574            16-05-2021        16-05-2021  ...        D5   60 months   \n",
       "38575            16-05-2021        16-05-2021  ...        F3   60 months   \n",
       "\n",
       "       verification_status annual_income     dti installment int_rate  \\\n",
       "38571             Verified      100000.0  0.1986      551.64   0.1299   \n",
       "38572             Verified       50000.0  0.0458      579.72   0.1349   \n",
       "38573             Verified       65000.0  0.1734      627.93   0.1749   \n",
       "38574             Verified      368000.0  0.0009      612.72   0.1825   \n",
       "38575             Verified       80000.0  0.0600      486.86   0.2099   \n",
       "\n",
       "       loan_amount  total_acc  total_payment  \n",
       "38571        24250         33          31946  \n",
       "38572        25200         18          31870  \n",
       "38573        25000         20          35721  \n",
       "38574        24000          9          33677  \n",
       "38575        18000          7          27679  \n",
       "\n",
       "[5 rows x 24 columns]"
      ]
     },
     "execution_count": 5,
     "metadata": {},
     "output_type": "execute_result"
    }
   ],
   "source": [
    "df.tail()"
   ]
  },
  {
   "cell_type": "code",
   "execution_count": 6,
   "metadata": {
    "colab": {
     "base_uri": "https://localhost:8080/"
    },
    "executionInfo": {
     "elapsed": 49,
     "status": "ok",
     "timestamp": 1753354048040,
     "user": {
      "displayName": "Bhishmadev Naskar",
      "userId": "11287888678306979437"
     },
     "user_tz": -330
    },
    "id": "3rBa7uZl8zXj",
    "outputId": "cc4438a8-87dc-4be4-c4fd-ccf8d85af2d5"
   },
   "outputs": [
    {
     "name": "stdout",
     "output_type": "stream",
     "text": [
      "<class 'pandas.core.frame.DataFrame'>\n",
      "RangeIndex: 38576 entries, 0 to 38575\n",
      "Data columns (total 24 columns):\n",
      " #   Column                 Non-Null Count  Dtype  \n",
      "---  ------                 --------------  -----  \n",
      " 0   id                     38576 non-null  int64  \n",
      " 1   address_state          38576 non-null  object \n",
      " 2   application_type       38576 non-null  object \n",
      " 3   emp_length             38576 non-null  object \n",
      " 4   emp_title              37138 non-null  object \n",
      " 5   grade                  38576 non-null  object \n",
      " 6   home_ownership         38576 non-null  object \n",
      " 7   issue_date             38576 non-null  object \n",
      " 8   last_credit_pull_date  38576 non-null  object \n",
      " 9   last_payment_date      38576 non-null  object \n",
      " 10  loan_status            38576 non-null  object \n",
      " 11  next_payment_date      38576 non-null  object \n",
      " 12  member_id              38576 non-null  int64  \n",
      " 13  purpose                38576 non-null  object \n",
      " 14  sub_grade              38576 non-null  object \n",
      " 15  term                   38576 non-null  object \n",
      " 16  verification_status    38576 non-null  object \n",
      " 17  annual_income          38576 non-null  float64\n",
      " 18  dti                    38576 non-null  float64\n",
      " 19  installment            38576 non-null  float64\n",
      " 20  int_rate               38576 non-null  float64\n",
      " 21  loan_amount            38576 non-null  int64  \n",
      " 22  total_acc              38576 non-null  int64  \n",
      " 23  total_payment          38576 non-null  int64  \n",
      "dtypes: float64(4), int64(5), object(15)\n",
      "memory usage: 7.1+ MB\n"
     ]
    }
   ],
   "source": [
    "df.info()"
   ]
  },
  {
   "cell_type": "code",
   "execution_count": 7,
   "metadata": {
    "colab": {
     "base_uri": "https://localhost:8080/"
    },
    "executionInfo": {
     "elapsed": 11,
     "status": "ok",
     "timestamp": 1753354194179,
     "user": {
      "displayName": "Bhishmadev Naskar",
      "userId": "11287888678306979437"
     },
     "user_tz": -330
    },
    "id": "4uxA_L4uC5As",
    "outputId": "34bec108-8c63-4a4c-8200-f43a07f9c8c1"
   },
   "outputs": [
    {
     "data": {
      "text/plain": [
       "Index(['id', 'address_state', 'application_type', 'emp_length', 'emp_title',\n",
       "       'grade', 'home_ownership', 'issue_date', 'last_credit_pull_date',\n",
       "       'last_payment_date', 'loan_status', 'next_payment_date', 'member_id',\n",
       "       'purpose', 'sub_grade', 'term', 'verification_status', 'annual_income',\n",
       "       'dti', 'installment', 'int_rate', 'loan_amount', 'total_acc',\n",
       "       'total_payment'],\n",
       "      dtype='object')"
      ]
     },
     "execution_count": 7,
     "metadata": {},
     "output_type": "execute_result"
    }
   ],
   "source": [
    "df.columns"
   ]
  },
  {
   "cell_type": "code",
   "execution_count": 8,
   "metadata": {
    "executionInfo": {
     "elapsed": 4,
     "status": "ok",
     "timestamp": 1753354265002,
     "user": {
      "displayName": "Bhishmadev Naskar",
      "userId": "11287888678306979437"
     },
     "user_tz": -330
    },
    "id": "LGkTYH9QDcuz"
   },
   "outputs": [],
   "source": [
    "df.columns = df.columns.str.title()"
   ]
  },
  {
   "cell_type": "code",
   "execution_count": 9,
   "metadata": {
    "colab": {
     "base_uri": "https://localhost:8080/"
    },
    "executionInfo": {
     "elapsed": 8,
     "status": "ok",
     "timestamp": 1753354279539,
     "user": {
      "displayName": "Bhishmadev Naskar",
      "userId": "11287888678306979437"
     },
     "user_tz": -330
    },
    "id": "tho8zrTLDmDy",
    "outputId": "563a0e7f-4500-4a4c-8f38-91e3706949bf"
   },
   "outputs": [
    {
     "data": {
      "text/plain": [
       "Index(['Id', 'Address_State', 'Application_Type', 'Emp_Length', 'Emp_Title',\n",
       "       'Grade', 'Home_Ownership', 'Issue_Date', 'Last_Credit_Pull_Date',\n",
       "       'Last_Payment_Date', 'Loan_Status', 'Next_Payment_Date', 'Member_Id',\n",
       "       'Purpose', 'Sub_Grade', 'Term', 'Verification_Status', 'Annual_Income',\n",
       "       'Dti', 'Installment', 'Int_Rate', 'Loan_Amount', 'Total_Acc',\n",
       "       'Total_Payment'],\n",
       "      dtype='object')"
      ]
     },
     "execution_count": 9,
     "metadata": {},
     "output_type": "execute_result"
    }
   ],
   "source": [
    "df.columns"
   ]
  },
  {
   "cell_type": "code",
   "execution_count": 10,
   "metadata": {
    "colab": {
     "base_uri": "https://localhost:8080/",
     "height": 837
    },
    "executionInfo": {
     "elapsed": 53,
     "status": "ok",
     "timestamp": 1753354538447,
     "user": {
      "displayName": "Bhishmadev Naskar",
      "userId": "11287888678306979437"
     },
     "user_tz": -330
    },
    "id": "xqs1mLwHDoai",
    "outputId": "75c949bc-4592-4a79-d489-24e3094edcda"
   },
   "outputs": [
    {
     "data": {
      "text/plain": [
       "Id                          0\n",
       "Address_State               0\n",
       "Application_Type            0\n",
       "Emp_Length                  0\n",
       "Emp_Title                1438\n",
       "Grade                       0\n",
       "Home_Ownership              0\n",
       "Issue_Date                  0\n",
       "Last_Credit_Pull_Date       0\n",
       "Last_Payment_Date           0\n",
       "Loan_Status                 0\n",
       "Next_Payment_Date           0\n",
       "Member_Id                   0\n",
       "Purpose                     0\n",
       "Sub_Grade                   0\n",
       "Term                        0\n",
       "Verification_Status         0\n",
       "Annual_Income               0\n",
       "Dti                         0\n",
       "Installment                 0\n",
       "Int_Rate                    0\n",
       "Loan_Amount                 0\n",
       "Total_Acc                   0\n",
       "Total_Payment               0\n",
       "dtype: int64"
      ]
     },
     "execution_count": 10,
     "metadata": {},
     "output_type": "execute_result"
    }
   ],
   "source": [
    "df.isnull().sum()"
   ]
  },
  {
   "cell_type": "code",
   "execution_count": 11,
   "metadata": {
    "colab": {
     "base_uri": "https://localhost:8080/",
     "height": 165
    },
    "executionInfo": {
     "elapsed": 28,
     "status": "ok",
     "timestamp": 1753354870521,
     "user": {
      "displayName": "Bhishmadev Naskar",
      "userId": "11287888678306979437"
     },
     "user_tz": -330
    },
    "id": "q-HeE-fVEwxE",
    "outputId": "217aa650-b849-499a-ca09-edee893a2910"
   },
   "outputs": [
    {
     "data": {
      "text/html": [
       "<div>\n",
       "<style scoped>\n",
       "    .dataframe tbody tr th:only-of-type {\n",
       "        vertical-align: middle;\n",
       "    }\n",
       "\n",
       "    .dataframe tbody tr th {\n",
       "        vertical-align: top;\n",
       "    }\n",
       "\n",
       "    .dataframe thead th {\n",
       "        text-align: right;\n",
       "    }\n",
       "</style>\n",
       "<table border=\"1\" class=\"dataframe\">\n",
       "  <thead>\n",
       "    <tr style=\"text-align: right;\">\n",
       "      <th></th>\n",
       "      <th>Id</th>\n",
       "      <th>Address_State</th>\n",
       "      <th>Application_Type</th>\n",
       "      <th>Emp_Length</th>\n",
       "      <th>Emp_Title</th>\n",
       "      <th>Grade</th>\n",
       "      <th>Home_Ownership</th>\n",
       "      <th>Issue_Date</th>\n",
       "      <th>Last_Credit_Pull_Date</th>\n",
       "      <th>Last_Payment_Date</th>\n",
       "      <th>...</th>\n",
       "      <th>Sub_Grade</th>\n",
       "      <th>Term</th>\n",
       "      <th>Verification_Status</th>\n",
       "      <th>Annual_Income</th>\n",
       "      <th>Dti</th>\n",
       "      <th>Installment</th>\n",
       "      <th>Int_Rate</th>\n",
       "      <th>Loan_Amount</th>\n",
       "      <th>Total_Acc</th>\n",
       "      <th>Total_Payment</th>\n",
       "    </tr>\n",
       "  </thead>\n",
       "  <tbody>\n",
       "    <tr>\n",
       "      <th>4624</th>\n",
       "      <td>681270</td>\n",
       "      <td>NY</td>\n",
       "      <td>INDIVIDUAL</td>\n",
       "      <td>10+ years</td>\n",
       "      <td>Morgan Stanley</td>\n",
       "      <td>A</td>\n",
       "      <td>MORTGAGE</td>\n",
       "      <td>11-02-2021</td>\n",
       "      <td>16-04-2021</td>\n",
       "      <td>14-03-2021</td>\n",
       "      <td>...</td>\n",
       "      <td>A1</td>\n",
       "      <td>36 months</td>\n",
       "      <td>Verified</td>\n",
       "      <td>100000.0</td>\n",
       "      <td>0.1265</td>\n",
       "      <td>135.72</td>\n",
       "      <td>0.0542</td>\n",
       "      <td>4500</td>\n",
       "      <td>30</td>\n",
       "      <td>4886</td>\n",
       "    </tr>\n",
       "  </tbody>\n",
       "</table>\n",
       "<p>1 rows × 24 columns</p>\n",
       "</div>"
      ],
      "text/plain": [
       "          Id Address_State Application_Type Emp_Length       Emp_Title Grade  \\\n",
       "4624  681270            NY       INDIVIDUAL  10+ years  Morgan Stanley     A   \n",
       "\n",
       "     Home_Ownership  Issue_Date Last_Credit_Pull_Date Last_Payment_Date  ...  \\\n",
       "4624       MORTGAGE  11-02-2021            16-04-2021        14-03-2021  ...   \n",
       "\n",
       "     Sub_Grade        Term  Verification_Status Annual_Income     Dti  \\\n",
       "4624        A1   36 months             Verified      100000.0  0.1265   \n",
       "\n",
       "     Installment Int_Rate  Loan_Amount  Total_Acc  Total_Payment  \n",
       "4624      135.72   0.0542         4500         30           4886  \n",
       "\n",
       "[1 rows x 24 columns]"
      ]
     },
     "execution_count": 11,
     "metadata": {},
     "output_type": "execute_result"
    }
   ],
   "source": [
    "df.sample()"
   ]
  },
  {
   "cell_type": "code",
   "execution_count": 12,
   "metadata": {
    "executionInfo": {
     "elapsed": 9,
     "status": "ok",
     "timestamp": 1753354905027,
     "user": {
      "displayName": "Bhishmadev Naskar",
      "userId": "11287888678306979437"
     },
     "user_tz": -330
    },
    "id": "yYpEmz3DFFPh"
   },
   "outputs": [],
   "source": [
    "df.fillna('N/A', inplace=True)"
   ]
  },
  {
   "cell_type": "code",
   "execution_count": 13,
   "metadata": {
    "colab": {
     "base_uri": "https://localhost:8080/",
     "height": 837
    },
    "executionInfo": {
     "elapsed": 42,
     "status": "ok",
     "timestamp": 1753354907265,
     "user": {
      "displayName": "Bhishmadev Naskar",
      "userId": "11287888678306979437"
     },
     "user_tz": -330
    },
    "id": "KcNm3l5iFLay",
    "outputId": "ee1a80ba-71a2-48d5-fc87-44978a742a4d"
   },
   "outputs": [
    {
     "data": {
      "text/plain": [
       "Id                       0\n",
       "Address_State            0\n",
       "Application_Type         0\n",
       "Emp_Length               0\n",
       "Emp_Title                0\n",
       "Grade                    0\n",
       "Home_Ownership           0\n",
       "Issue_Date               0\n",
       "Last_Credit_Pull_Date    0\n",
       "Last_Payment_Date        0\n",
       "Loan_Status              0\n",
       "Next_Payment_Date        0\n",
       "Member_Id                0\n",
       "Purpose                  0\n",
       "Sub_Grade                0\n",
       "Term                     0\n",
       "Verification_Status      0\n",
       "Annual_Income            0\n",
       "Dti                      0\n",
       "Installment              0\n",
       "Int_Rate                 0\n",
       "Loan_Amount              0\n",
       "Total_Acc                0\n",
       "Total_Payment            0\n",
       "dtype: int64"
      ]
     },
     "execution_count": 13,
     "metadata": {},
     "output_type": "execute_result"
    }
   ],
   "source": [
    "df.isnull().sum()"
   ]
  },
  {
   "cell_type": "code",
   "execution_count": 14,
   "metadata": {
    "colab": {
     "base_uri": "https://localhost:8080/",
     "height": 147
    },
    "executionInfo": {
     "elapsed": 16,
     "status": "ok",
     "timestamp": 1753354917802,
     "user": {
      "displayName": "Bhishmadev Naskar",
      "userId": "11287888678306979437"
     },
     "user_tz": -330
    },
    "id": "9lNjhRMXGCxJ",
    "outputId": "bf93291f-763f-4b4a-d426-e36ac8f8a408"
   },
   "outputs": [
    {
     "data": {
      "text/html": [
       "<div>\n",
       "<style scoped>\n",
       "    .dataframe tbody tr th:only-of-type {\n",
       "        vertical-align: middle;\n",
       "    }\n",
       "\n",
       "    .dataframe tbody tr th {\n",
       "        vertical-align: top;\n",
       "    }\n",
       "\n",
       "    .dataframe thead th {\n",
       "        text-align: right;\n",
       "    }\n",
       "</style>\n",
       "<table border=\"1\" class=\"dataframe\">\n",
       "  <thead>\n",
       "    <tr style=\"text-align: right;\">\n",
       "      <th></th>\n",
       "      <th>Id</th>\n",
       "      <th>Address_State</th>\n",
       "      <th>Application_Type</th>\n",
       "      <th>Emp_Length</th>\n",
       "      <th>Emp_Title</th>\n",
       "      <th>Grade</th>\n",
       "      <th>Home_Ownership</th>\n",
       "      <th>Issue_Date</th>\n",
       "      <th>Last_Credit_Pull_Date</th>\n",
       "      <th>Last_Payment_Date</th>\n",
       "      <th>...</th>\n",
       "      <th>Sub_Grade</th>\n",
       "      <th>Term</th>\n",
       "      <th>Verification_Status</th>\n",
       "      <th>Annual_Income</th>\n",
       "      <th>Dti</th>\n",
       "      <th>Installment</th>\n",
       "      <th>Int_Rate</th>\n",
       "      <th>Loan_Amount</th>\n",
       "      <th>Total_Acc</th>\n",
       "      <th>Total_Payment</th>\n",
       "    </tr>\n",
       "  </thead>\n",
       "  <tbody>\n",
       "    <tr>\n",
       "      <th>24765</th>\n",
       "      <td>350501</td>\n",
       "      <td>IL</td>\n",
       "      <td>INDIVIDUAL</td>\n",
       "      <td>7 years</td>\n",
       "      <td>Bank of America Corp.</td>\n",
       "      <td>A</td>\n",
       "      <td>MORTGAGE</td>\n",
       "      <td>08-07-2021</td>\n",
       "      <td>15-10-2021</td>\n",
       "      <td>09-08-2021</td>\n",
       "      <td>...</td>\n",
       "      <td>A4</td>\n",
       "      <td>36 months</td>\n",
       "      <td>Not Verified</td>\n",
       "      <td>100000.0</td>\n",
       "      <td>0.0787</td>\n",
       "      <td>191.27</td>\n",
       "      <td>0.0832</td>\n",
       "      <td>7500</td>\n",
       "      <td>38</td>\n",
       "      <td>6540</td>\n",
       "    </tr>\n",
       "  </tbody>\n",
       "</table>\n",
       "<p>1 rows × 24 columns</p>\n",
       "</div>"
      ],
      "text/plain": [
       "           Id Address_State Application_Type Emp_Length  \\\n",
       "24765  350501            IL       INDIVIDUAL    7 years   \n",
       "\n",
       "                   Emp_Title Grade Home_Ownership  Issue_Date  \\\n",
       "24765  Bank of America Corp.     A       MORTGAGE  08-07-2021   \n",
       "\n",
       "      Last_Credit_Pull_Date Last_Payment_Date  ... Sub_Grade        Term  \\\n",
       "24765            15-10-2021        09-08-2021  ...        A4   36 months   \n",
       "\n",
       "       Verification_Status Annual_Income     Dti Installment Int_Rate  \\\n",
       "24765         Not Verified      100000.0  0.0787      191.27   0.0832   \n",
       "\n",
       "       Loan_Amount  Total_Acc  Total_Payment  \n",
       "24765         7500         38           6540  \n",
       "\n",
       "[1 rows x 24 columns]"
      ]
     },
     "execution_count": 14,
     "metadata": {},
     "output_type": "execute_result"
    }
   ],
   "source": [
    "df.sample()"
   ]
  },
  {
   "cell_type": "code",
   "execution_count": 15,
   "metadata": {
    "colab": {
     "base_uri": "https://localhost:8080/"
    },
    "executionInfo": {
     "elapsed": 52,
     "status": "ok",
     "timestamp": 1753354987933,
     "user": {
      "displayName": "Bhishmadev Naskar",
      "userId": "11287888678306979437"
     },
     "user_tz": -330
    },
    "id": "kxFN1evqGFkh",
    "outputId": "03086bcb-60da-439d-efba-56310c61a1a8"
   },
   "outputs": [
    {
     "data": {
      "text/plain": [
       "np.int64(0)"
      ]
     },
     "execution_count": 15,
     "metadata": {},
     "output_type": "execute_result"
    }
   ],
   "source": [
    "df.duplicated().sum()"
   ]
  },
  {
   "cell_type": "code",
   "execution_count": 16,
   "metadata": {
    "colab": {
     "base_uri": "https://localhost:8080/"
    },
    "executionInfo": {
     "elapsed": 38,
     "status": "ok",
     "timestamp": 1753355588167,
     "user": {
      "displayName": "Bhishmadev Naskar",
      "userId": "11287888678306979437"
     },
     "user_tz": -330
    },
    "id": "td901EFaGegS",
    "outputId": "82a2e32b-5d01-4dd6-fa87-d3d6bf3ffe02"
   },
   "outputs": [
    {
     "data": {
      "text/plain": [
       "Index(['Id', 'Address_State', 'Application_Type', 'Emp_Length', 'Emp_Title',\n",
       "       'Grade', 'Home_Ownership', 'Issue_Date', 'Last_Credit_Pull_Date',\n",
       "       'Last_Payment_Date', 'Loan_Status', 'Next_Payment_Date', 'Member_Id',\n",
       "       'Purpose', 'Sub_Grade', 'Term', 'Verification_Status', 'Annual_Income',\n",
       "       'Dti', 'Installment', 'Int_Rate', 'Loan_Amount', 'Total_Acc',\n",
       "       'Total_Payment'],\n",
       "      dtype='object')"
      ]
     },
     "execution_count": 16,
     "metadata": {},
     "output_type": "execute_result"
    }
   ],
   "source": [
    "df.columns"
   ]
  },
  {
   "cell_type": "code",
   "execution_count": 17,
   "metadata": {
    "executionInfo": {
     "elapsed": 2,
     "status": "ok",
     "timestamp": 1753355561067,
     "user": {
      "displayName": "Bhishmadev Naskar",
      "userId": "11287888678306979437"
     },
     "user_tz": -330
    },
    "id": "aZdPDj5xIpkh"
   },
   "outputs": [],
   "source": [
    "pd.set_option('display.float_format', '{:.0f}'.format)"
   ]
  },
  {
   "cell_type": "code",
   "execution_count": 18,
   "metadata": {
    "colab": {
     "base_uri": "https://localhost:8080/",
     "height": 300
    },
    "executionInfo": {
     "elapsed": 56,
     "status": "ok",
     "timestamp": 1753355736685,
     "user": {
      "displayName": "Bhishmadev Naskar",
      "userId": "11287888678306979437"
     },
     "user_tz": -330
    },
    "id": "iUVxu4b6GRCp",
    "outputId": "c318d45a-142c-4e03-c709-22ff53f20794"
   },
   "outputs": [
    {
     "data": {
      "text/html": [
       "<div>\n",
       "<style scoped>\n",
       "    .dataframe tbody tr th:only-of-type {\n",
       "        vertical-align: middle;\n",
       "    }\n",
       "\n",
       "    .dataframe tbody tr th {\n",
       "        vertical-align: top;\n",
       "    }\n",
       "\n",
       "    .dataframe thead th {\n",
       "        text-align: right;\n",
       "    }\n",
       "</style>\n",
       "<table border=\"1\" class=\"dataframe\">\n",
       "  <thead>\n",
       "    <tr style=\"text-align: right;\">\n",
       "      <th></th>\n",
       "      <th>Annual_Income</th>\n",
       "      <th>Installment</th>\n",
       "      <th>Loan_Amount</th>\n",
       "      <th>Total_Acc</th>\n",
       "      <th>Total_Payment</th>\n",
       "    </tr>\n",
       "  </thead>\n",
       "  <tbody>\n",
       "    <tr>\n",
       "      <th>count</th>\n",
       "      <td>38576</td>\n",
       "      <td>38576</td>\n",
       "      <td>38576</td>\n",
       "      <td>38576</td>\n",
       "      <td>38576</td>\n",
       "    </tr>\n",
       "    <tr>\n",
       "      <th>mean</th>\n",
       "      <td>69645</td>\n",
       "      <td>327</td>\n",
       "      <td>11296</td>\n",
       "      <td>22</td>\n",
       "      <td>12263</td>\n",
       "    </tr>\n",
       "    <tr>\n",
       "      <th>std</th>\n",
       "      <td>64294</td>\n",
       "      <td>209</td>\n",
       "      <td>7461</td>\n",
       "      <td>11</td>\n",
       "      <td>9051</td>\n",
       "    </tr>\n",
       "    <tr>\n",
       "      <th>min</th>\n",
       "      <td>4000</td>\n",
       "      <td>16</td>\n",
       "      <td>500</td>\n",
       "      <td>2</td>\n",
       "      <td>34</td>\n",
       "    </tr>\n",
       "    <tr>\n",
       "      <th>25%</th>\n",
       "      <td>41500</td>\n",
       "      <td>168</td>\n",
       "      <td>5500</td>\n",
       "      <td>14</td>\n",
       "      <td>5633</td>\n",
       "    </tr>\n",
       "    <tr>\n",
       "      <th>50%</th>\n",
       "      <td>60000</td>\n",
       "      <td>283</td>\n",
       "      <td>10000</td>\n",
       "      <td>20</td>\n",
       "      <td>10042</td>\n",
       "    </tr>\n",
       "    <tr>\n",
       "      <th>75%</th>\n",
       "      <td>83200</td>\n",
       "      <td>434</td>\n",
       "      <td>15000</td>\n",
       "      <td>29</td>\n",
       "      <td>16658</td>\n",
       "    </tr>\n",
       "    <tr>\n",
       "      <th>max</th>\n",
       "      <td>6000000</td>\n",
       "      <td>1305</td>\n",
       "      <td>35000</td>\n",
       "      <td>90</td>\n",
       "      <td>58564</td>\n",
       "    </tr>\n",
       "  </tbody>\n",
       "</table>\n",
       "</div>"
      ],
      "text/plain": [
       "       Annual_Income  Installment  Loan_Amount  Total_Acc  Total_Payment\n",
       "count          38576        38576        38576      38576          38576\n",
       "mean           69645          327        11296         22          12263\n",
       "std            64294          209         7461         11           9051\n",
       "min             4000           16          500          2             34\n",
       "25%            41500          168         5500         14           5633\n",
       "50%            60000          283        10000         20          10042\n",
       "75%            83200          434        15000         29          16658\n",
       "max          6000000         1305        35000         90          58564"
      ]
     },
     "execution_count": 18,
     "metadata": {},
     "output_type": "execute_result"
    }
   ],
   "source": [
    "df[['Annual_Income', 'Installment', 'Loan_Amount', 'Total_Acc', 'Total_Payment']].describe()"
   ]
  },
  {
   "cell_type": "code",
   "execution_count": 19,
   "metadata": {
    "colab": {
     "base_uri": "https://localhost:8080/"
    },
    "executionInfo": {
     "elapsed": 9,
     "status": "ok",
     "timestamp": 1753355738415,
     "user": {
      "displayName": "Bhishmadev Naskar",
      "userId": "11287888678306979437"
     },
     "user_tz": -330
    },
    "id": "pSYCkqhqJVTR",
    "outputId": "e17283fa-25ef-4687-dc99-3074b7a94bb1"
   },
   "outputs": [
    {
     "data": {
      "text/plain": [
       "Index(['Id', 'Address_State', 'Application_Type', 'Emp_Length', 'Emp_Title',\n",
       "       'Grade', 'Home_Ownership', 'Issue_Date', 'Last_Credit_Pull_Date',\n",
       "       'Last_Payment_Date', 'Loan_Status', 'Next_Payment_Date', 'Member_Id',\n",
       "       'Purpose', 'Sub_Grade', 'Term', 'Verification_Status', 'Annual_Income',\n",
       "       'Dti', 'Installment', 'Int_Rate', 'Loan_Amount', 'Total_Acc',\n",
       "       'Total_Payment'],\n",
       "      dtype='object')"
      ]
     },
     "execution_count": 19,
     "metadata": {},
     "output_type": "execute_result"
    }
   ],
   "source": [
    "df.columns"
   ]
  },
  {
   "cell_type": "code",
   "execution_count": 20,
   "metadata": {
    "colab": {
     "base_uri": "https://localhost:8080/",
     "height": 542
    },
    "executionInfo": {
     "elapsed": 83,
     "status": "ok",
     "timestamp": 1753358324618,
     "user": {
      "displayName": "Bhishmadev Naskar",
      "userId": "11287888678306979437"
     },
     "user_tz": -330
    },
    "id": "eJ13bCcDJAIo",
    "outputId": "2b5dd7e7-4b66-400f-94a6-3e58497a0bf7"
   },
   "outputs": [
    {
     "data": {
      "application/vnd.plotly.v1+json": {
       "config": {
        "plotlyServerURL": "https://plot.ly"
       },
       "data": [
        {
         "hovertemplate": "Issue_Date=%{x}<br>Loan_Amount=%{y}<extra></extra>",
         "legendgroup": "",
         "line": {
          "color": "#636efa",
          "dash": "solid"
         },
         "marker": {
          "symbol": "circle"
         },
         "mode": "lines",
         "name": "",
         "orientation": "v",
         "showlegend": false,
         "type": "scatter",
         "x": [
          "01-01-2021",
          "02-02-2021",
          "02-09-2021",
          "02-12-2021",
          "05-01-2021",
          "07-06-2021",
          "07-07-2021",
          "07-08-2021",
          "07-09-2021",
          "07-10-2021",
          "07-11-2021",
          "07-12-2021",
          "08-01-2021",
          "08-02-2021",
          "08-03-2021",
          "08-04-2021",
          "08-05-2021",
          "08-06-2021",
          "08-07-2021",
          "08-08-2021",
          "08-09-2021",
          "08-10-2021",
          "08-11-2021",
          "08-12-2021",
          "09-01-2021",
          "09-02-2021",
          "09-03-2021",
          "09-04-2021",
          "09-05-2021",
          "09-06-2021",
          "09-07-2021",
          "09-08-2021",
          "09-09-2021",
          "09-10-2021",
          "09-11-2021",
          "09-12-2021",
          "10-01-2021",
          "10-02-2021",
          "10-03-2021",
          "10-04-2021",
          "10-05-2021",
          "10-06-2021",
          "10-07-2021",
          "10-08-2021",
          "10-09-2021",
          "10-10-2021",
          "10-11-2021",
          "10-12-2021",
          "11-01-2021",
          "11-02-2021",
          "11-03-2021",
          "11-04-2021",
          "11-05-2021",
          "11-06-2021",
          "11-07-2021",
          "11-08-2021",
          "11-09-2021",
          "11-10-2021",
          "11-11-2021",
          "11-12-2021",
          "12-12-2021",
          "17-07-2021",
          "19-11-2021",
          "22-07-2021",
          "25-02-2021"
         ],
         "xaxis": "x",
         "y": {
          "bdata": "ZBkAAIgTAADAXQAA6gsAAOAuAABMHQAAtJ4CAFsuAwBpOgIAN90EANHOBQA/DA8AGt8aAA+gGQAlGykATL8XAFRkBgBHzAUAfQIIAChKBgBd0gIAzukLABr+GQBc7yIA8VshAPDIIwBCfCgA3nsoAI6ILwDWjzAA0uQ0AAQGPADdRkUA7LhVAIFTXQBB92IAu8xjADNPZAAr23EA+jOBAKwZlADO9JsADSyoAFNKqACNzqgAECK0AHI1vADcossA2KPdAEM71gAiKfUAPEoFAWBDGgEM1TYBpJM6AQZVWAHds3wBZ2SSAftAnwHH+9YBiBMAAEAfAABwFwAAGBUAAJQRAAA=",
          "dtype": "i4"
         },
         "yaxis": "y"
        }
       ],
       "layout": {
        "legend": {
         "tracegroupgap": 0
        },
        "template": {
         "data": {
          "bar": [
           {
            "error_x": {
             "color": "#2a3f5f"
            },
            "error_y": {
             "color": "#2a3f5f"
            },
            "marker": {
             "line": {
              "color": "#E5ECF6",
              "width": 0.5
             },
             "pattern": {
              "fillmode": "overlay",
              "size": 10,
              "solidity": 0.2
             }
            },
            "type": "bar"
           }
          ],
          "barpolar": [
           {
            "marker": {
             "line": {
              "color": "#E5ECF6",
              "width": 0.5
             },
             "pattern": {
              "fillmode": "overlay",
              "size": 10,
              "solidity": 0.2
             }
            },
            "type": "barpolar"
           }
          ],
          "carpet": [
           {
            "aaxis": {
             "endlinecolor": "#2a3f5f",
             "gridcolor": "white",
             "linecolor": "white",
             "minorgridcolor": "white",
             "startlinecolor": "#2a3f5f"
            },
            "baxis": {
             "endlinecolor": "#2a3f5f",
             "gridcolor": "white",
             "linecolor": "white",
             "minorgridcolor": "white",
             "startlinecolor": "#2a3f5f"
            },
            "type": "carpet"
           }
          ],
          "choropleth": [
           {
            "colorbar": {
             "outlinewidth": 0,
             "ticks": ""
            },
            "type": "choropleth"
           }
          ],
          "contour": [
           {
            "colorbar": {
             "outlinewidth": 0,
             "ticks": ""
            },
            "colorscale": [
             [
              0,
              "#0d0887"
             ],
             [
              0.1111111111111111,
              "#46039f"
             ],
             [
              0.2222222222222222,
              "#7201a8"
             ],
             [
              0.3333333333333333,
              "#9c179e"
             ],
             [
              0.4444444444444444,
              "#bd3786"
             ],
             [
              0.5555555555555556,
              "#d8576b"
             ],
             [
              0.6666666666666666,
              "#ed7953"
             ],
             [
              0.7777777777777778,
              "#fb9f3a"
             ],
             [
              0.8888888888888888,
              "#fdca26"
             ],
             [
              1,
              "#f0f921"
             ]
            ],
            "type": "contour"
           }
          ],
          "contourcarpet": [
           {
            "colorbar": {
             "outlinewidth": 0,
             "ticks": ""
            },
            "type": "contourcarpet"
           }
          ],
          "heatmap": [
           {
            "colorbar": {
             "outlinewidth": 0,
             "ticks": ""
            },
            "colorscale": [
             [
              0,
              "#0d0887"
             ],
             [
              0.1111111111111111,
              "#46039f"
             ],
             [
              0.2222222222222222,
              "#7201a8"
             ],
             [
              0.3333333333333333,
              "#9c179e"
             ],
             [
              0.4444444444444444,
              "#bd3786"
             ],
             [
              0.5555555555555556,
              "#d8576b"
             ],
             [
              0.6666666666666666,
              "#ed7953"
             ],
             [
              0.7777777777777778,
              "#fb9f3a"
             ],
             [
              0.8888888888888888,
              "#fdca26"
             ],
             [
              1,
              "#f0f921"
             ]
            ],
            "type": "heatmap"
           }
          ],
          "histogram": [
           {
            "marker": {
             "pattern": {
              "fillmode": "overlay",
              "size": 10,
              "solidity": 0.2
             }
            },
            "type": "histogram"
           }
          ],
          "histogram2d": [
           {
            "colorbar": {
             "outlinewidth": 0,
             "ticks": ""
            },
            "colorscale": [
             [
              0,
              "#0d0887"
             ],
             [
              0.1111111111111111,
              "#46039f"
             ],
             [
              0.2222222222222222,
              "#7201a8"
             ],
             [
              0.3333333333333333,
              "#9c179e"
             ],
             [
              0.4444444444444444,
              "#bd3786"
             ],
             [
              0.5555555555555556,
              "#d8576b"
             ],
             [
              0.6666666666666666,
              "#ed7953"
             ],
             [
              0.7777777777777778,
              "#fb9f3a"
             ],
             [
              0.8888888888888888,
              "#fdca26"
             ],
             [
              1,
              "#f0f921"
             ]
            ],
            "type": "histogram2d"
           }
          ],
          "histogram2dcontour": [
           {
            "colorbar": {
             "outlinewidth": 0,
             "ticks": ""
            },
            "colorscale": [
             [
              0,
              "#0d0887"
             ],
             [
              0.1111111111111111,
              "#46039f"
             ],
             [
              0.2222222222222222,
              "#7201a8"
             ],
             [
              0.3333333333333333,
              "#9c179e"
             ],
             [
              0.4444444444444444,
              "#bd3786"
             ],
             [
              0.5555555555555556,
              "#d8576b"
             ],
             [
              0.6666666666666666,
              "#ed7953"
             ],
             [
              0.7777777777777778,
              "#fb9f3a"
             ],
             [
              0.8888888888888888,
              "#fdca26"
             ],
             [
              1,
              "#f0f921"
             ]
            ],
            "type": "histogram2dcontour"
           }
          ],
          "mesh3d": [
           {
            "colorbar": {
             "outlinewidth": 0,
             "ticks": ""
            },
            "type": "mesh3d"
           }
          ],
          "parcoords": [
           {
            "line": {
             "colorbar": {
              "outlinewidth": 0,
              "ticks": ""
             }
            },
            "type": "parcoords"
           }
          ],
          "pie": [
           {
            "automargin": true,
            "type": "pie"
           }
          ],
          "scatter": [
           {
            "fillpattern": {
             "fillmode": "overlay",
             "size": 10,
             "solidity": 0.2
            },
            "type": "scatter"
           }
          ],
          "scatter3d": [
           {
            "line": {
             "colorbar": {
              "outlinewidth": 0,
              "ticks": ""
             }
            },
            "marker": {
             "colorbar": {
              "outlinewidth": 0,
              "ticks": ""
             }
            },
            "type": "scatter3d"
           }
          ],
          "scattercarpet": [
           {
            "marker": {
             "colorbar": {
              "outlinewidth": 0,
              "ticks": ""
             }
            },
            "type": "scattercarpet"
           }
          ],
          "scattergeo": [
           {
            "marker": {
             "colorbar": {
              "outlinewidth": 0,
              "ticks": ""
             }
            },
            "type": "scattergeo"
           }
          ],
          "scattergl": [
           {
            "marker": {
             "colorbar": {
              "outlinewidth": 0,
              "ticks": ""
             }
            },
            "type": "scattergl"
           }
          ],
          "scattermap": [
           {
            "marker": {
             "colorbar": {
              "outlinewidth": 0,
              "ticks": ""
             }
            },
            "type": "scattermap"
           }
          ],
          "scattermapbox": [
           {
            "marker": {
             "colorbar": {
              "outlinewidth": 0,
              "ticks": ""
             }
            },
            "type": "scattermapbox"
           }
          ],
          "scatterpolar": [
           {
            "marker": {
             "colorbar": {
              "outlinewidth": 0,
              "ticks": ""
             }
            },
            "type": "scatterpolar"
           }
          ],
          "scatterpolargl": [
           {
            "marker": {
             "colorbar": {
              "outlinewidth": 0,
              "ticks": ""
             }
            },
            "type": "scatterpolargl"
           }
          ],
          "scatterternary": [
           {
            "marker": {
             "colorbar": {
              "outlinewidth": 0,
              "ticks": ""
             }
            },
            "type": "scatterternary"
           }
          ],
          "surface": [
           {
            "colorbar": {
             "outlinewidth": 0,
             "ticks": ""
            },
            "colorscale": [
             [
              0,
              "#0d0887"
             ],
             [
              0.1111111111111111,
              "#46039f"
             ],
             [
              0.2222222222222222,
              "#7201a8"
             ],
             [
              0.3333333333333333,
              "#9c179e"
             ],
             [
              0.4444444444444444,
              "#bd3786"
             ],
             [
              0.5555555555555556,
              "#d8576b"
             ],
             [
              0.6666666666666666,
              "#ed7953"
             ],
             [
              0.7777777777777778,
              "#fb9f3a"
             ],
             [
              0.8888888888888888,
              "#fdca26"
             ],
             [
              1,
              "#f0f921"
             ]
            ],
            "type": "surface"
           }
          ],
          "table": [
           {
            "cells": {
             "fill": {
              "color": "#EBF0F8"
             },
             "line": {
              "color": "white"
             }
            },
            "header": {
             "fill": {
              "color": "#C8D4E3"
             },
             "line": {
              "color": "white"
             }
            },
            "type": "table"
           }
          ]
         },
         "layout": {
          "annotationdefaults": {
           "arrowcolor": "#2a3f5f",
           "arrowhead": 0,
           "arrowwidth": 1
          },
          "autotypenumbers": "strict",
          "coloraxis": {
           "colorbar": {
            "outlinewidth": 0,
            "ticks": ""
           }
          },
          "colorscale": {
           "diverging": [
            [
             0,
             "#8e0152"
            ],
            [
             0.1,
             "#c51b7d"
            ],
            [
             0.2,
             "#de77ae"
            ],
            [
             0.3,
             "#f1b6da"
            ],
            [
             0.4,
             "#fde0ef"
            ],
            [
             0.5,
             "#f7f7f7"
            ],
            [
             0.6,
             "#e6f5d0"
            ],
            [
             0.7,
             "#b8e186"
            ],
            [
             0.8,
             "#7fbc41"
            ],
            [
             0.9,
             "#4d9221"
            ],
            [
             1,
             "#276419"
            ]
           ],
           "sequential": [
            [
             0,
             "#0d0887"
            ],
            [
             0.1111111111111111,
             "#46039f"
            ],
            [
             0.2222222222222222,
             "#7201a8"
            ],
            [
             0.3333333333333333,
             "#9c179e"
            ],
            [
             0.4444444444444444,
             "#bd3786"
            ],
            [
             0.5555555555555556,
             "#d8576b"
            ],
            [
             0.6666666666666666,
             "#ed7953"
            ],
            [
             0.7777777777777778,
             "#fb9f3a"
            ],
            [
             0.8888888888888888,
             "#fdca26"
            ],
            [
             1,
             "#f0f921"
            ]
           ],
           "sequentialminus": [
            [
             0,
             "#0d0887"
            ],
            [
             0.1111111111111111,
             "#46039f"
            ],
            [
             0.2222222222222222,
             "#7201a8"
            ],
            [
             0.3333333333333333,
             "#9c179e"
            ],
            [
             0.4444444444444444,
             "#bd3786"
            ],
            [
             0.5555555555555556,
             "#d8576b"
            ],
            [
             0.6666666666666666,
             "#ed7953"
            ],
            [
             0.7777777777777778,
             "#fb9f3a"
            ],
            [
             0.8888888888888888,
             "#fdca26"
            ],
            [
             1,
             "#f0f921"
            ]
           ]
          },
          "colorway": [
           "#636efa",
           "#EF553B",
           "#00cc96",
           "#ab63fa",
           "#FFA15A",
           "#19d3f3",
           "#FF6692",
           "#B6E880",
           "#FF97FF",
           "#FECB52"
          ],
          "font": {
           "color": "#2a3f5f"
          },
          "geo": {
           "bgcolor": "white",
           "lakecolor": "white",
           "landcolor": "#E5ECF6",
           "showlakes": true,
           "showland": true,
           "subunitcolor": "white"
          },
          "hoverlabel": {
           "align": "left"
          },
          "hovermode": "closest",
          "mapbox": {
           "style": "light"
          },
          "paper_bgcolor": "white",
          "plot_bgcolor": "#E5ECF6",
          "polar": {
           "angularaxis": {
            "gridcolor": "white",
            "linecolor": "white",
            "ticks": ""
           },
           "bgcolor": "#E5ECF6",
           "radialaxis": {
            "gridcolor": "white",
            "linecolor": "white",
            "ticks": ""
           }
          },
          "scene": {
           "xaxis": {
            "backgroundcolor": "#E5ECF6",
            "gridcolor": "white",
            "gridwidth": 2,
            "linecolor": "white",
            "showbackground": true,
            "ticks": "",
            "zerolinecolor": "white"
           },
           "yaxis": {
            "backgroundcolor": "#E5ECF6",
            "gridcolor": "white",
            "gridwidth": 2,
            "linecolor": "white",
            "showbackground": true,
            "ticks": "",
            "zerolinecolor": "white"
           },
           "zaxis": {
            "backgroundcolor": "#E5ECF6",
            "gridcolor": "white",
            "gridwidth": 2,
            "linecolor": "white",
            "showbackground": true,
            "ticks": "",
            "zerolinecolor": "white"
           }
          },
          "shapedefaults": {
           "line": {
            "color": "#2a3f5f"
           }
          },
          "ternary": {
           "aaxis": {
            "gridcolor": "white",
            "linecolor": "white",
            "ticks": ""
           },
           "baxis": {
            "gridcolor": "white",
            "linecolor": "white",
            "ticks": ""
           },
           "bgcolor": "#E5ECF6",
           "caxis": {
            "gridcolor": "white",
            "linecolor": "white",
            "ticks": ""
           }
          },
          "title": {
           "x": 0.05
          },
          "xaxis": {
           "automargin": true,
           "gridcolor": "white",
           "linecolor": "white",
           "ticks": "",
           "title": {
            "standoff": 15
           },
           "zerolinecolor": "white",
           "zerolinewidth": 2
          },
          "yaxis": {
           "automargin": true,
           "gridcolor": "white",
           "linecolor": "white",
           "ticks": "",
           "title": {
            "standoff": 15
           },
           "zerolinecolor": "white",
           "zerolinewidth": 2
          }
         }
        },
        "title": {
         "text": "Monthly Trends(Loan Amt) by Issue Date"
        },
        "xaxis": {
         "anchor": "y",
         "domain": [
          0,
          1
         ],
         "title": {
          "text": "Issue_Date"
         }
        },
        "yaxis": {
         "anchor": "x",
         "domain": [
          0,
          1
         ],
         "title": {
          "text": "Loan_Amount"
         }
        }
       }
      }
     },
     "metadata": {},
     "output_type": "display_data"
    }
   ],
   "source": [
    "loanamt1 = df.groupby('Issue_Date')['Loan_Amount'].sum().reset_index()\n",
    "px.line(loanamt1,x='Issue_Date', y='Loan_Amount' , title= 'Monthly Trends(Loan Amt) by Issue Date')"
   ]
  },
  {
   "cell_type": "code",
   "execution_count": 21,
   "metadata": {
    "colab": {
     "base_uri": "https://localhost:8080/",
     "height": 542
    },
    "executionInfo": {
     "elapsed": 458,
     "status": "ok",
     "timestamp": 1753358327651,
     "user": {
      "displayName": "Bhishmadev Naskar",
      "userId": "11287888678306979437"
     },
     "user_tz": -330
    },
    "id": "5UOnsB_rLmaJ",
    "outputId": "18db0192-8089-41cc-8dbb-6495ba353034"
   },
   "outputs": [
    {
     "data": {
      "application/vnd.plotly.v1+json": {
       "config": {
        "plotlyServerURL": "https://plot.ly"
       },
       "data": [
        {
         "hovertemplate": "Issue_Date=%{x}<br>Total_Payment=%{y}<extra></extra>",
         "legendgroup": "",
         "line": {
          "color": "#636efa",
          "dash": "solid"
         },
         "marker": {
          "symbol": "circle"
         },
         "mode": "lines",
         "name": "",
         "orientation": "v",
         "showlegend": false,
         "type": "scatter",
         "x": [
          "01-01-2021",
          "02-02-2021",
          "02-09-2021",
          "02-12-2021",
          "05-01-2021",
          "07-06-2021",
          "07-07-2021",
          "07-08-2021",
          "07-09-2021",
          "07-10-2021",
          "07-11-2021",
          "07-12-2021",
          "08-01-2021",
          "08-02-2021",
          "08-03-2021",
          "08-04-2021",
          "08-05-2021",
          "08-06-2021",
          "08-07-2021",
          "08-08-2021",
          "08-09-2021",
          "08-10-2021",
          "08-11-2021",
          "08-12-2021",
          "09-01-2021",
          "09-02-2021",
          "09-03-2021",
          "09-04-2021",
          "09-05-2021",
          "09-06-2021",
          "09-07-2021",
          "09-08-2021",
          "09-09-2021",
          "09-10-2021",
          "09-11-2021",
          "09-12-2021",
          "10-01-2021",
          "10-02-2021",
          "10-03-2021",
          "10-04-2021",
          "10-05-2021",
          "10-06-2021",
          "10-07-2021",
          "10-08-2021",
          "10-09-2021",
          "10-10-2021",
          "10-11-2021",
          "10-12-2021",
          "11-01-2021",
          "11-02-2021",
          "11-03-2021",
          "11-04-2021",
          "11-05-2021",
          "11-06-2021",
          "11-07-2021",
          "11-08-2021",
          "11-09-2021",
          "11-10-2021",
          "11-11-2021",
          "11-12-2021",
          "12-12-2021",
          "17-07-2021",
          "19-11-2021",
          "22-07-2021",
          "25-02-2021"
         ],
         "xaxis": "x",
         "y": {
          "bdata": "Xh4AANkYAADKIQAA0g0AAMINAADrIwAA6vkCAPJaAwBHVwIAKIIEAOG0BQA7vA4A2GEbALFoGwDHTSoARUwRAC1UBgAGHwYAOEkHAOlZBQCGeQIA3CIMAHZyGQBTFSMAM20kAC4SJwC/1CwAI5crAHX7MQA6XjQAw+U5AHqTQQB4UUsAsVZbADyaZQDdMW4AqwBtAOQ6cADLin4AW3iPALV+mgCPHJ8Azhi5ABT4vwAxd7oA6t/DAKNYsQAHydUA/tX3AKYO9AB/oxYB6nsjAaQvMAH7FU4B3/hSAQEHgQEMaZQBcOvBAda9xgHhMwAC5xYAAL0hAAAyHAAAhRgAAC8TAAA=",
          "dtype": "i4"
         },
         "yaxis": "y"
        }
       ],
       "layout": {
        "legend": {
         "tracegroupgap": 0
        },
        "template": {
         "data": {
          "bar": [
           {
            "error_x": {
             "color": "#2a3f5f"
            },
            "error_y": {
             "color": "#2a3f5f"
            },
            "marker": {
             "line": {
              "color": "#E5ECF6",
              "width": 0.5
             },
             "pattern": {
              "fillmode": "overlay",
              "size": 10,
              "solidity": 0.2
             }
            },
            "type": "bar"
           }
          ],
          "barpolar": [
           {
            "marker": {
             "line": {
              "color": "#E5ECF6",
              "width": 0.5
             },
             "pattern": {
              "fillmode": "overlay",
              "size": 10,
              "solidity": 0.2
             }
            },
            "type": "barpolar"
           }
          ],
          "carpet": [
           {
            "aaxis": {
             "endlinecolor": "#2a3f5f",
             "gridcolor": "white",
             "linecolor": "white",
             "minorgridcolor": "white",
             "startlinecolor": "#2a3f5f"
            },
            "baxis": {
             "endlinecolor": "#2a3f5f",
             "gridcolor": "white",
             "linecolor": "white",
             "minorgridcolor": "white",
             "startlinecolor": "#2a3f5f"
            },
            "type": "carpet"
           }
          ],
          "choropleth": [
           {
            "colorbar": {
             "outlinewidth": 0,
             "ticks": ""
            },
            "type": "choropleth"
           }
          ],
          "contour": [
           {
            "colorbar": {
             "outlinewidth": 0,
             "ticks": ""
            },
            "colorscale": [
             [
              0,
              "#0d0887"
             ],
             [
              0.1111111111111111,
              "#46039f"
             ],
             [
              0.2222222222222222,
              "#7201a8"
             ],
             [
              0.3333333333333333,
              "#9c179e"
             ],
             [
              0.4444444444444444,
              "#bd3786"
             ],
             [
              0.5555555555555556,
              "#d8576b"
             ],
             [
              0.6666666666666666,
              "#ed7953"
             ],
             [
              0.7777777777777778,
              "#fb9f3a"
             ],
             [
              0.8888888888888888,
              "#fdca26"
             ],
             [
              1,
              "#f0f921"
             ]
            ],
            "type": "contour"
           }
          ],
          "contourcarpet": [
           {
            "colorbar": {
             "outlinewidth": 0,
             "ticks": ""
            },
            "type": "contourcarpet"
           }
          ],
          "heatmap": [
           {
            "colorbar": {
             "outlinewidth": 0,
             "ticks": ""
            },
            "colorscale": [
             [
              0,
              "#0d0887"
             ],
             [
              0.1111111111111111,
              "#46039f"
             ],
             [
              0.2222222222222222,
              "#7201a8"
             ],
             [
              0.3333333333333333,
              "#9c179e"
             ],
             [
              0.4444444444444444,
              "#bd3786"
             ],
             [
              0.5555555555555556,
              "#d8576b"
             ],
             [
              0.6666666666666666,
              "#ed7953"
             ],
             [
              0.7777777777777778,
              "#fb9f3a"
             ],
             [
              0.8888888888888888,
              "#fdca26"
             ],
             [
              1,
              "#f0f921"
             ]
            ],
            "type": "heatmap"
           }
          ],
          "histogram": [
           {
            "marker": {
             "pattern": {
              "fillmode": "overlay",
              "size": 10,
              "solidity": 0.2
             }
            },
            "type": "histogram"
           }
          ],
          "histogram2d": [
           {
            "colorbar": {
             "outlinewidth": 0,
             "ticks": ""
            },
            "colorscale": [
             [
              0,
              "#0d0887"
             ],
             [
              0.1111111111111111,
              "#46039f"
             ],
             [
              0.2222222222222222,
              "#7201a8"
             ],
             [
              0.3333333333333333,
              "#9c179e"
             ],
             [
              0.4444444444444444,
              "#bd3786"
             ],
             [
              0.5555555555555556,
              "#d8576b"
             ],
             [
              0.6666666666666666,
              "#ed7953"
             ],
             [
              0.7777777777777778,
              "#fb9f3a"
             ],
             [
              0.8888888888888888,
              "#fdca26"
             ],
             [
              1,
              "#f0f921"
             ]
            ],
            "type": "histogram2d"
           }
          ],
          "histogram2dcontour": [
           {
            "colorbar": {
             "outlinewidth": 0,
             "ticks": ""
            },
            "colorscale": [
             [
              0,
              "#0d0887"
             ],
             [
              0.1111111111111111,
              "#46039f"
             ],
             [
              0.2222222222222222,
              "#7201a8"
             ],
             [
              0.3333333333333333,
              "#9c179e"
             ],
             [
              0.4444444444444444,
              "#bd3786"
             ],
             [
              0.5555555555555556,
              "#d8576b"
             ],
             [
              0.6666666666666666,
              "#ed7953"
             ],
             [
              0.7777777777777778,
              "#fb9f3a"
             ],
             [
              0.8888888888888888,
              "#fdca26"
             ],
             [
              1,
              "#f0f921"
             ]
            ],
            "type": "histogram2dcontour"
           }
          ],
          "mesh3d": [
           {
            "colorbar": {
             "outlinewidth": 0,
             "ticks": ""
            },
            "type": "mesh3d"
           }
          ],
          "parcoords": [
           {
            "line": {
             "colorbar": {
              "outlinewidth": 0,
              "ticks": ""
             }
            },
            "type": "parcoords"
           }
          ],
          "pie": [
           {
            "automargin": true,
            "type": "pie"
           }
          ],
          "scatter": [
           {
            "fillpattern": {
             "fillmode": "overlay",
             "size": 10,
             "solidity": 0.2
            },
            "type": "scatter"
           }
          ],
          "scatter3d": [
           {
            "line": {
             "colorbar": {
              "outlinewidth": 0,
              "ticks": ""
             }
            },
            "marker": {
             "colorbar": {
              "outlinewidth": 0,
              "ticks": ""
             }
            },
            "type": "scatter3d"
           }
          ],
          "scattercarpet": [
           {
            "marker": {
             "colorbar": {
              "outlinewidth": 0,
              "ticks": ""
             }
            },
            "type": "scattercarpet"
           }
          ],
          "scattergeo": [
           {
            "marker": {
             "colorbar": {
              "outlinewidth": 0,
              "ticks": ""
             }
            },
            "type": "scattergeo"
           }
          ],
          "scattergl": [
           {
            "marker": {
             "colorbar": {
              "outlinewidth": 0,
              "ticks": ""
             }
            },
            "type": "scattergl"
           }
          ],
          "scattermap": [
           {
            "marker": {
             "colorbar": {
              "outlinewidth": 0,
              "ticks": ""
             }
            },
            "type": "scattermap"
           }
          ],
          "scattermapbox": [
           {
            "marker": {
             "colorbar": {
              "outlinewidth": 0,
              "ticks": ""
             }
            },
            "type": "scattermapbox"
           }
          ],
          "scatterpolar": [
           {
            "marker": {
             "colorbar": {
              "outlinewidth": 0,
              "ticks": ""
             }
            },
            "type": "scatterpolar"
           }
          ],
          "scatterpolargl": [
           {
            "marker": {
             "colorbar": {
              "outlinewidth": 0,
              "ticks": ""
             }
            },
            "type": "scatterpolargl"
           }
          ],
          "scatterternary": [
           {
            "marker": {
             "colorbar": {
              "outlinewidth": 0,
              "ticks": ""
             }
            },
            "type": "scatterternary"
           }
          ],
          "surface": [
           {
            "colorbar": {
             "outlinewidth": 0,
             "ticks": ""
            },
            "colorscale": [
             [
              0,
              "#0d0887"
             ],
             [
              0.1111111111111111,
              "#46039f"
             ],
             [
              0.2222222222222222,
              "#7201a8"
             ],
             [
              0.3333333333333333,
              "#9c179e"
             ],
             [
              0.4444444444444444,
              "#bd3786"
             ],
             [
              0.5555555555555556,
              "#d8576b"
             ],
             [
              0.6666666666666666,
              "#ed7953"
             ],
             [
              0.7777777777777778,
              "#fb9f3a"
             ],
             [
              0.8888888888888888,
              "#fdca26"
             ],
             [
              1,
              "#f0f921"
             ]
            ],
            "type": "surface"
           }
          ],
          "table": [
           {
            "cells": {
             "fill": {
              "color": "#EBF0F8"
             },
             "line": {
              "color": "white"
             }
            },
            "header": {
             "fill": {
              "color": "#C8D4E3"
             },
             "line": {
              "color": "white"
             }
            },
            "type": "table"
           }
          ]
         },
         "layout": {
          "annotationdefaults": {
           "arrowcolor": "#2a3f5f",
           "arrowhead": 0,
           "arrowwidth": 1
          },
          "autotypenumbers": "strict",
          "coloraxis": {
           "colorbar": {
            "outlinewidth": 0,
            "ticks": ""
           }
          },
          "colorscale": {
           "diverging": [
            [
             0,
             "#8e0152"
            ],
            [
             0.1,
             "#c51b7d"
            ],
            [
             0.2,
             "#de77ae"
            ],
            [
             0.3,
             "#f1b6da"
            ],
            [
             0.4,
             "#fde0ef"
            ],
            [
             0.5,
             "#f7f7f7"
            ],
            [
             0.6,
             "#e6f5d0"
            ],
            [
             0.7,
             "#b8e186"
            ],
            [
             0.8,
             "#7fbc41"
            ],
            [
             0.9,
             "#4d9221"
            ],
            [
             1,
             "#276419"
            ]
           ],
           "sequential": [
            [
             0,
             "#0d0887"
            ],
            [
             0.1111111111111111,
             "#46039f"
            ],
            [
             0.2222222222222222,
             "#7201a8"
            ],
            [
             0.3333333333333333,
             "#9c179e"
            ],
            [
             0.4444444444444444,
             "#bd3786"
            ],
            [
             0.5555555555555556,
             "#d8576b"
            ],
            [
             0.6666666666666666,
             "#ed7953"
            ],
            [
             0.7777777777777778,
             "#fb9f3a"
            ],
            [
             0.8888888888888888,
             "#fdca26"
            ],
            [
             1,
             "#f0f921"
            ]
           ],
           "sequentialminus": [
            [
             0,
             "#0d0887"
            ],
            [
             0.1111111111111111,
             "#46039f"
            ],
            [
             0.2222222222222222,
             "#7201a8"
            ],
            [
             0.3333333333333333,
             "#9c179e"
            ],
            [
             0.4444444444444444,
             "#bd3786"
            ],
            [
             0.5555555555555556,
             "#d8576b"
            ],
            [
             0.6666666666666666,
             "#ed7953"
            ],
            [
             0.7777777777777778,
             "#fb9f3a"
            ],
            [
             0.8888888888888888,
             "#fdca26"
            ],
            [
             1,
             "#f0f921"
            ]
           ]
          },
          "colorway": [
           "#636efa",
           "#EF553B",
           "#00cc96",
           "#ab63fa",
           "#FFA15A",
           "#19d3f3",
           "#FF6692",
           "#B6E880",
           "#FF97FF",
           "#FECB52"
          ],
          "font": {
           "color": "#2a3f5f"
          },
          "geo": {
           "bgcolor": "white",
           "lakecolor": "white",
           "landcolor": "#E5ECF6",
           "showlakes": true,
           "showland": true,
           "subunitcolor": "white"
          },
          "hoverlabel": {
           "align": "left"
          },
          "hovermode": "closest",
          "mapbox": {
           "style": "light"
          },
          "paper_bgcolor": "white",
          "plot_bgcolor": "#E5ECF6",
          "polar": {
           "angularaxis": {
            "gridcolor": "white",
            "linecolor": "white",
            "ticks": ""
           },
           "bgcolor": "#E5ECF6",
           "radialaxis": {
            "gridcolor": "white",
            "linecolor": "white",
            "ticks": ""
           }
          },
          "scene": {
           "xaxis": {
            "backgroundcolor": "#E5ECF6",
            "gridcolor": "white",
            "gridwidth": 2,
            "linecolor": "white",
            "showbackground": true,
            "ticks": "",
            "zerolinecolor": "white"
           },
           "yaxis": {
            "backgroundcolor": "#E5ECF6",
            "gridcolor": "white",
            "gridwidth": 2,
            "linecolor": "white",
            "showbackground": true,
            "ticks": "",
            "zerolinecolor": "white"
           },
           "zaxis": {
            "backgroundcolor": "#E5ECF6",
            "gridcolor": "white",
            "gridwidth": 2,
            "linecolor": "white",
            "showbackground": true,
            "ticks": "",
            "zerolinecolor": "white"
           }
          },
          "shapedefaults": {
           "line": {
            "color": "#2a3f5f"
           }
          },
          "ternary": {
           "aaxis": {
            "gridcolor": "white",
            "linecolor": "white",
            "ticks": ""
           },
           "baxis": {
            "gridcolor": "white",
            "linecolor": "white",
            "ticks": ""
           },
           "bgcolor": "#E5ECF6",
           "caxis": {
            "gridcolor": "white",
            "linecolor": "white",
            "ticks": ""
           }
          },
          "title": {
           "x": 0.05
          },
          "xaxis": {
           "automargin": true,
           "gridcolor": "white",
           "linecolor": "white",
           "ticks": "",
           "title": {
            "standoff": 15
           },
           "zerolinecolor": "white",
           "zerolinewidth": 2
          },
          "yaxis": {
           "automargin": true,
           "gridcolor": "white",
           "linecolor": "white",
           "ticks": "",
           "title": {
            "standoff": 15
           },
           "zerolinecolor": "white",
           "zerolinewidth": 2
          }
         }
        },
        "title": {
         "text": "Monthly Trends(Total Payment) by Issue Date"
        },
        "xaxis": {
         "anchor": "y",
         "domain": [
          0,
          1
         ],
         "title": {
          "text": "Issue_Date"
         }
        },
        "yaxis": {
         "anchor": "x",
         "domain": [
          0,
          1
         ],
         "title": {
          "text": "Total_Payment"
         }
        }
       }
      }
     },
     "metadata": {},
     "output_type": "display_data"
    }
   ],
   "source": [
    "loanamt2 = df.groupby('Issue_Date')['Total_Payment'].sum().reset_index()\n",
    "px.line(loanamt2,x='Issue_Date', y='Total_Payment', title= 'Monthly Trends(Total Payment) by Issue Date')"
   ]
  },
  {
   "cell_type": "code",
   "execution_count": 22,
   "metadata": {
    "colab": {
     "base_uri": "https://localhost:8080/",
     "height": 542
    },
    "executionInfo": {
     "elapsed": 59,
     "status": "ok",
     "timestamp": 1753358413414,
     "user": {
      "displayName": "Bhishmadev Naskar",
      "userId": "11287888678306979437"
     },
     "user_tz": -330
    },
    "id": "Nc06fU7tMl6h",
    "outputId": "4f39e291-254e-43a5-9d9c-59d26a9b3aa2"
   },
   "outputs": [
    {
     "data": {
      "application/vnd.plotly.v1+json": {
       "config": {
        "plotlyServerURL": "https://plot.ly"
       },
       "data": [
        {
         "hovertemplate": "Emp_Length=%{x}<br>Loan_Amount=%{y}<extra></extra>",
         "legendgroup": "",
         "marker": {
          "color": "#636efa",
          "pattern": {
           "shape": ""
          }
         },
         "name": "",
         "orientation": "v",
         "showlegend": false,
         "textposition": "auto",
         "type": "bar",
         "x": [
          "10+ years",
          "2 years",
          "< 1 year",
          "3 years",
          "4 years",
          "5 years",
          "1 year",
          "6 years",
          "7 years",
          "8 years",
          "9 years"
         ],
         "xaxis": "x",
         "y": {
          "bdata": "7snrBicorgLBmaICOnCeAne8PQI5LDQCtcH1AWrRhgHNjz0Bpu0LAcEq5gA=",
          "dtype": "i4"
         },
         "yaxis": "y"
        }
       ],
       "layout": {
        "barmode": "relative",
        "legend": {
         "tracegroupgap": 0
        },
        "template": {
         "data": {
          "bar": [
           {
            "error_x": {
             "color": "#2a3f5f"
            },
            "error_y": {
             "color": "#2a3f5f"
            },
            "marker": {
             "line": {
              "color": "#E5ECF6",
              "width": 0.5
             },
             "pattern": {
              "fillmode": "overlay",
              "size": 10,
              "solidity": 0.2
             }
            },
            "type": "bar"
           }
          ],
          "barpolar": [
           {
            "marker": {
             "line": {
              "color": "#E5ECF6",
              "width": 0.5
             },
             "pattern": {
              "fillmode": "overlay",
              "size": 10,
              "solidity": 0.2
             }
            },
            "type": "barpolar"
           }
          ],
          "carpet": [
           {
            "aaxis": {
             "endlinecolor": "#2a3f5f",
             "gridcolor": "white",
             "linecolor": "white",
             "minorgridcolor": "white",
             "startlinecolor": "#2a3f5f"
            },
            "baxis": {
             "endlinecolor": "#2a3f5f",
             "gridcolor": "white",
             "linecolor": "white",
             "minorgridcolor": "white",
             "startlinecolor": "#2a3f5f"
            },
            "type": "carpet"
           }
          ],
          "choropleth": [
           {
            "colorbar": {
             "outlinewidth": 0,
             "ticks": ""
            },
            "type": "choropleth"
           }
          ],
          "contour": [
           {
            "colorbar": {
             "outlinewidth": 0,
             "ticks": ""
            },
            "colorscale": [
             [
              0,
              "#0d0887"
             ],
             [
              0.1111111111111111,
              "#46039f"
             ],
             [
              0.2222222222222222,
              "#7201a8"
             ],
             [
              0.3333333333333333,
              "#9c179e"
             ],
             [
              0.4444444444444444,
              "#bd3786"
             ],
             [
              0.5555555555555556,
              "#d8576b"
             ],
             [
              0.6666666666666666,
              "#ed7953"
             ],
             [
              0.7777777777777778,
              "#fb9f3a"
             ],
             [
              0.8888888888888888,
              "#fdca26"
             ],
             [
              1,
              "#f0f921"
             ]
            ],
            "type": "contour"
           }
          ],
          "contourcarpet": [
           {
            "colorbar": {
             "outlinewidth": 0,
             "ticks": ""
            },
            "type": "contourcarpet"
           }
          ],
          "heatmap": [
           {
            "colorbar": {
             "outlinewidth": 0,
             "ticks": ""
            },
            "colorscale": [
             [
              0,
              "#0d0887"
             ],
             [
              0.1111111111111111,
              "#46039f"
             ],
             [
              0.2222222222222222,
              "#7201a8"
             ],
             [
              0.3333333333333333,
              "#9c179e"
             ],
             [
              0.4444444444444444,
              "#bd3786"
             ],
             [
              0.5555555555555556,
              "#d8576b"
             ],
             [
              0.6666666666666666,
              "#ed7953"
             ],
             [
              0.7777777777777778,
              "#fb9f3a"
             ],
             [
              0.8888888888888888,
              "#fdca26"
             ],
             [
              1,
              "#f0f921"
             ]
            ],
            "type": "heatmap"
           }
          ],
          "histogram": [
           {
            "marker": {
             "pattern": {
              "fillmode": "overlay",
              "size": 10,
              "solidity": 0.2
             }
            },
            "type": "histogram"
           }
          ],
          "histogram2d": [
           {
            "colorbar": {
             "outlinewidth": 0,
             "ticks": ""
            },
            "colorscale": [
             [
              0,
              "#0d0887"
             ],
             [
              0.1111111111111111,
              "#46039f"
             ],
             [
              0.2222222222222222,
              "#7201a8"
             ],
             [
              0.3333333333333333,
              "#9c179e"
             ],
             [
              0.4444444444444444,
              "#bd3786"
             ],
             [
              0.5555555555555556,
              "#d8576b"
             ],
             [
              0.6666666666666666,
              "#ed7953"
             ],
             [
              0.7777777777777778,
              "#fb9f3a"
             ],
             [
              0.8888888888888888,
              "#fdca26"
             ],
             [
              1,
              "#f0f921"
             ]
            ],
            "type": "histogram2d"
           }
          ],
          "histogram2dcontour": [
           {
            "colorbar": {
             "outlinewidth": 0,
             "ticks": ""
            },
            "colorscale": [
             [
              0,
              "#0d0887"
             ],
             [
              0.1111111111111111,
              "#46039f"
             ],
             [
              0.2222222222222222,
              "#7201a8"
             ],
             [
              0.3333333333333333,
              "#9c179e"
             ],
             [
              0.4444444444444444,
              "#bd3786"
             ],
             [
              0.5555555555555556,
              "#d8576b"
             ],
             [
              0.6666666666666666,
              "#ed7953"
             ],
             [
              0.7777777777777778,
              "#fb9f3a"
             ],
             [
              0.8888888888888888,
              "#fdca26"
             ],
             [
              1,
              "#f0f921"
             ]
            ],
            "type": "histogram2dcontour"
           }
          ],
          "mesh3d": [
           {
            "colorbar": {
             "outlinewidth": 0,
             "ticks": ""
            },
            "type": "mesh3d"
           }
          ],
          "parcoords": [
           {
            "line": {
             "colorbar": {
              "outlinewidth": 0,
              "ticks": ""
             }
            },
            "type": "parcoords"
           }
          ],
          "pie": [
           {
            "automargin": true,
            "type": "pie"
           }
          ],
          "scatter": [
           {
            "fillpattern": {
             "fillmode": "overlay",
             "size": 10,
             "solidity": 0.2
            },
            "type": "scatter"
           }
          ],
          "scatter3d": [
           {
            "line": {
             "colorbar": {
              "outlinewidth": 0,
              "ticks": ""
             }
            },
            "marker": {
             "colorbar": {
              "outlinewidth": 0,
              "ticks": ""
             }
            },
            "type": "scatter3d"
           }
          ],
          "scattercarpet": [
           {
            "marker": {
             "colorbar": {
              "outlinewidth": 0,
              "ticks": ""
             }
            },
            "type": "scattercarpet"
           }
          ],
          "scattergeo": [
           {
            "marker": {
             "colorbar": {
              "outlinewidth": 0,
              "ticks": ""
             }
            },
            "type": "scattergeo"
           }
          ],
          "scattergl": [
           {
            "marker": {
             "colorbar": {
              "outlinewidth": 0,
              "ticks": ""
             }
            },
            "type": "scattergl"
           }
          ],
          "scattermap": [
           {
            "marker": {
             "colorbar": {
              "outlinewidth": 0,
              "ticks": ""
             }
            },
            "type": "scattermap"
           }
          ],
          "scattermapbox": [
           {
            "marker": {
             "colorbar": {
              "outlinewidth": 0,
              "ticks": ""
             }
            },
            "type": "scattermapbox"
           }
          ],
          "scatterpolar": [
           {
            "marker": {
             "colorbar": {
              "outlinewidth": 0,
              "ticks": ""
             }
            },
            "type": "scatterpolar"
           }
          ],
          "scatterpolargl": [
           {
            "marker": {
             "colorbar": {
              "outlinewidth": 0,
              "ticks": ""
             }
            },
            "type": "scatterpolargl"
           }
          ],
          "scatterternary": [
           {
            "marker": {
             "colorbar": {
              "outlinewidth": 0,
              "ticks": ""
             }
            },
            "type": "scatterternary"
           }
          ],
          "surface": [
           {
            "colorbar": {
             "outlinewidth": 0,
             "ticks": ""
            },
            "colorscale": [
             [
              0,
              "#0d0887"
             ],
             [
              0.1111111111111111,
              "#46039f"
             ],
             [
              0.2222222222222222,
              "#7201a8"
             ],
             [
              0.3333333333333333,
              "#9c179e"
             ],
             [
              0.4444444444444444,
              "#bd3786"
             ],
             [
              0.5555555555555556,
              "#d8576b"
             ],
             [
              0.6666666666666666,
              "#ed7953"
             ],
             [
              0.7777777777777778,
              "#fb9f3a"
             ],
             [
              0.8888888888888888,
              "#fdca26"
             ],
             [
              1,
              "#f0f921"
             ]
            ],
            "type": "surface"
           }
          ],
          "table": [
           {
            "cells": {
             "fill": {
              "color": "#EBF0F8"
             },
             "line": {
              "color": "white"
             }
            },
            "header": {
             "fill": {
              "color": "#C8D4E3"
             },
             "line": {
              "color": "white"
             }
            },
            "type": "table"
           }
          ]
         },
         "layout": {
          "annotationdefaults": {
           "arrowcolor": "#2a3f5f",
           "arrowhead": 0,
           "arrowwidth": 1
          },
          "autotypenumbers": "strict",
          "coloraxis": {
           "colorbar": {
            "outlinewidth": 0,
            "ticks": ""
           }
          },
          "colorscale": {
           "diverging": [
            [
             0,
             "#8e0152"
            ],
            [
             0.1,
             "#c51b7d"
            ],
            [
             0.2,
             "#de77ae"
            ],
            [
             0.3,
             "#f1b6da"
            ],
            [
             0.4,
             "#fde0ef"
            ],
            [
             0.5,
             "#f7f7f7"
            ],
            [
             0.6,
             "#e6f5d0"
            ],
            [
             0.7,
             "#b8e186"
            ],
            [
             0.8,
             "#7fbc41"
            ],
            [
             0.9,
             "#4d9221"
            ],
            [
             1,
             "#276419"
            ]
           ],
           "sequential": [
            [
             0,
             "#0d0887"
            ],
            [
             0.1111111111111111,
             "#46039f"
            ],
            [
             0.2222222222222222,
             "#7201a8"
            ],
            [
             0.3333333333333333,
             "#9c179e"
            ],
            [
             0.4444444444444444,
             "#bd3786"
            ],
            [
             0.5555555555555556,
             "#d8576b"
            ],
            [
             0.6666666666666666,
             "#ed7953"
            ],
            [
             0.7777777777777778,
             "#fb9f3a"
            ],
            [
             0.8888888888888888,
             "#fdca26"
            ],
            [
             1,
             "#f0f921"
            ]
           ],
           "sequentialminus": [
            [
             0,
             "#0d0887"
            ],
            [
             0.1111111111111111,
             "#46039f"
            ],
            [
             0.2222222222222222,
             "#7201a8"
            ],
            [
             0.3333333333333333,
             "#9c179e"
            ],
            [
             0.4444444444444444,
             "#bd3786"
            ],
            [
             0.5555555555555556,
             "#d8576b"
            ],
            [
             0.6666666666666666,
             "#ed7953"
            ],
            [
             0.7777777777777778,
             "#fb9f3a"
            ],
            [
             0.8888888888888888,
             "#fdca26"
            ],
            [
             1,
             "#f0f921"
            ]
           ]
          },
          "colorway": [
           "#636efa",
           "#EF553B",
           "#00cc96",
           "#ab63fa",
           "#FFA15A",
           "#19d3f3",
           "#FF6692",
           "#B6E880",
           "#FF97FF",
           "#FECB52"
          ],
          "font": {
           "color": "#2a3f5f"
          },
          "geo": {
           "bgcolor": "white",
           "lakecolor": "white",
           "landcolor": "#E5ECF6",
           "showlakes": true,
           "showland": true,
           "subunitcolor": "white"
          },
          "hoverlabel": {
           "align": "left"
          },
          "hovermode": "closest",
          "mapbox": {
           "style": "light"
          },
          "paper_bgcolor": "white",
          "plot_bgcolor": "#E5ECF6",
          "polar": {
           "angularaxis": {
            "gridcolor": "white",
            "linecolor": "white",
            "ticks": ""
           },
           "bgcolor": "#E5ECF6",
           "radialaxis": {
            "gridcolor": "white",
            "linecolor": "white",
            "ticks": ""
           }
          },
          "scene": {
           "xaxis": {
            "backgroundcolor": "#E5ECF6",
            "gridcolor": "white",
            "gridwidth": 2,
            "linecolor": "white",
            "showbackground": true,
            "ticks": "",
            "zerolinecolor": "white"
           },
           "yaxis": {
            "backgroundcolor": "#E5ECF6",
            "gridcolor": "white",
            "gridwidth": 2,
            "linecolor": "white",
            "showbackground": true,
            "ticks": "",
            "zerolinecolor": "white"
           },
           "zaxis": {
            "backgroundcolor": "#E5ECF6",
            "gridcolor": "white",
            "gridwidth": 2,
            "linecolor": "white",
            "showbackground": true,
            "ticks": "",
            "zerolinecolor": "white"
           }
          },
          "shapedefaults": {
           "line": {
            "color": "#2a3f5f"
           }
          },
          "ternary": {
           "aaxis": {
            "gridcolor": "white",
            "linecolor": "white",
            "ticks": ""
           },
           "baxis": {
            "gridcolor": "white",
            "linecolor": "white",
            "ticks": ""
           },
           "bgcolor": "#E5ECF6",
           "caxis": {
            "gridcolor": "white",
            "linecolor": "white",
            "ticks": ""
           }
          },
          "title": {
           "x": 0.05
          },
          "xaxis": {
           "automargin": true,
           "gridcolor": "white",
           "linecolor": "white",
           "ticks": "",
           "title": {
            "standoff": 15
           },
           "zerolinecolor": "white",
           "zerolinewidth": 2
          },
          "yaxis": {
           "automargin": true,
           "gridcolor": "white",
           "linecolor": "white",
           "ticks": "",
           "title": {
            "standoff": 15
           },
           "zerolinecolor": "white",
           "zerolinewidth": 2
          }
         }
        },
        "title": {
         "text": "Loan Amt by Employee Length"
        },
        "xaxis": {
         "anchor": "y",
         "domain": [
          0,
          1
         ],
         "title": {
          "text": "Emp_Length"
         }
        },
        "yaxis": {
         "anchor": "x",
         "domain": [
          0,
          1
         ],
         "title": {
          "text": "Loan_Amount"
         }
        }
       }
      }
     },
     "metadata": {},
     "output_type": "display_data"
    }
   ],
   "source": [
    "empl = df.groupby('Emp_Length')['Loan_Amount'].sum().sort_values(ascending=False).reset_index()\n",
    "px.bar(empl, x= 'Emp_Length', y = 'Loan_Amount', title='Loan Amt by Employee Length')"
   ]
  },
  {
   "cell_type": "code",
   "execution_count": 23,
   "metadata": {
    "colab": {
     "base_uri": "https://localhost:8080/",
     "height": 542
    },
    "executionInfo": {
     "elapsed": 53,
     "status": "ok",
     "timestamp": 1753359023346,
     "user": {
      "displayName": "Bhishmadev Naskar",
      "userId": "11287888678306979437"
     },
     "user_tz": -330
    },
    "id": "CUL6e4kONg7o",
    "outputId": "923f00c7-7e43-4a0f-aae1-7edabe3aa2e2"
   },
   "outputs": [
    {
     "data": {
      "application/vnd.plotly.v1+json": {
       "config": {
        "plotlyServerURL": "https://plot.ly"
       },
       "data": [
        {
         "hovertemplate": "Purpose=%{x}<br>Loan_Amount=%{y}<extra></extra>",
         "legendgroup": "",
         "marker": {
          "color": "#636efa",
          "pattern": {
           "shape": ""
          }
         },
         "name": "",
         "orientation": "v",
         "showlegend": false,
         "textposition": "auto",
         "type": "bar",
         "x": [
          "Debt consolidation",
          "credit card",
          "home improvement",
          "other",
          "small business",
          "major purchase",
          "car",
          "wedding",
          "medical",
          "house",
          "moving",
          "educational",
          "vacation",
          "renewable_energy"
         ],
         "xaxis": "x",
         "y": {
          "bdata": "mw3bDTeEggN35PwBJmbbAdwWcAEQPQcB1/+bAEjGjAApblQAXZ9JAB0xOQDy+yAATgceALbnDAA=",
          "dtype": "i4"
         },
         "yaxis": "y"
        }
       ],
       "layout": {
        "barmode": "relative",
        "legend": {
         "tracegroupgap": 0
        },
        "template": {
         "data": {
          "bar": [
           {
            "error_x": {
             "color": "#2a3f5f"
            },
            "error_y": {
             "color": "#2a3f5f"
            },
            "marker": {
             "line": {
              "color": "#E5ECF6",
              "width": 0.5
             },
             "pattern": {
              "fillmode": "overlay",
              "size": 10,
              "solidity": 0.2
             }
            },
            "type": "bar"
           }
          ],
          "barpolar": [
           {
            "marker": {
             "line": {
              "color": "#E5ECF6",
              "width": 0.5
             },
             "pattern": {
              "fillmode": "overlay",
              "size": 10,
              "solidity": 0.2
             }
            },
            "type": "barpolar"
           }
          ],
          "carpet": [
           {
            "aaxis": {
             "endlinecolor": "#2a3f5f",
             "gridcolor": "white",
             "linecolor": "white",
             "minorgridcolor": "white",
             "startlinecolor": "#2a3f5f"
            },
            "baxis": {
             "endlinecolor": "#2a3f5f",
             "gridcolor": "white",
             "linecolor": "white",
             "minorgridcolor": "white",
             "startlinecolor": "#2a3f5f"
            },
            "type": "carpet"
           }
          ],
          "choropleth": [
           {
            "colorbar": {
             "outlinewidth": 0,
             "ticks": ""
            },
            "type": "choropleth"
           }
          ],
          "contour": [
           {
            "colorbar": {
             "outlinewidth": 0,
             "ticks": ""
            },
            "colorscale": [
             [
              0,
              "#0d0887"
             ],
             [
              0.1111111111111111,
              "#46039f"
             ],
             [
              0.2222222222222222,
              "#7201a8"
             ],
             [
              0.3333333333333333,
              "#9c179e"
             ],
             [
              0.4444444444444444,
              "#bd3786"
             ],
             [
              0.5555555555555556,
              "#d8576b"
             ],
             [
              0.6666666666666666,
              "#ed7953"
             ],
             [
              0.7777777777777778,
              "#fb9f3a"
             ],
             [
              0.8888888888888888,
              "#fdca26"
             ],
             [
              1,
              "#f0f921"
             ]
            ],
            "type": "contour"
           }
          ],
          "contourcarpet": [
           {
            "colorbar": {
             "outlinewidth": 0,
             "ticks": ""
            },
            "type": "contourcarpet"
           }
          ],
          "heatmap": [
           {
            "colorbar": {
             "outlinewidth": 0,
             "ticks": ""
            },
            "colorscale": [
             [
              0,
              "#0d0887"
             ],
             [
              0.1111111111111111,
              "#46039f"
             ],
             [
              0.2222222222222222,
              "#7201a8"
             ],
             [
              0.3333333333333333,
              "#9c179e"
             ],
             [
              0.4444444444444444,
              "#bd3786"
             ],
             [
              0.5555555555555556,
              "#d8576b"
             ],
             [
              0.6666666666666666,
              "#ed7953"
             ],
             [
              0.7777777777777778,
              "#fb9f3a"
             ],
             [
              0.8888888888888888,
              "#fdca26"
             ],
             [
              1,
              "#f0f921"
             ]
            ],
            "type": "heatmap"
           }
          ],
          "histogram": [
           {
            "marker": {
             "pattern": {
              "fillmode": "overlay",
              "size": 10,
              "solidity": 0.2
             }
            },
            "type": "histogram"
           }
          ],
          "histogram2d": [
           {
            "colorbar": {
             "outlinewidth": 0,
             "ticks": ""
            },
            "colorscale": [
             [
              0,
              "#0d0887"
             ],
             [
              0.1111111111111111,
              "#46039f"
             ],
             [
              0.2222222222222222,
              "#7201a8"
             ],
             [
              0.3333333333333333,
              "#9c179e"
             ],
             [
              0.4444444444444444,
              "#bd3786"
             ],
             [
              0.5555555555555556,
              "#d8576b"
             ],
             [
              0.6666666666666666,
              "#ed7953"
             ],
             [
              0.7777777777777778,
              "#fb9f3a"
             ],
             [
              0.8888888888888888,
              "#fdca26"
             ],
             [
              1,
              "#f0f921"
             ]
            ],
            "type": "histogram2d"
           }
          ],
          "histogram2dcontour": [
           {
            "colorbar": {
             "outlinewidth": 0,
             "ticks": ""
            },
            "colorscale": [
             [
              0,
              "#0d0887"
             ],
             [
              0.1111111111111111,
              "#46039f"
             ],
             [
              0.2222222222222222,
              "#7201a8"
             ],
             [
              0.3333333333333333,
              "#9c179e"
             ],
             [
              0.4444444444444444,
              "#bd3786"
             ],
             [
              0.5555555555555556,
              "#d8576b"
             ],
             [
              0.6666666666666666,
              "#ed7953"
             ],
             [
              0.7777777777777778,
              "#fb9f3a"
             ],
             [
              0.8888888888888888,
              "#fdca26"
             ],
             [
              1,
              "#f0f921"
             ]
            ],
            "type": "histogram2dcontour"
           }
          ],
          "mesh3d": [
           {
            "colorbar": {
             "outlinewidth": 0,
             "ticks": ""
            },
            "type": "mesh3d"
           }
          ],
          "parcoords": [
           {
            "line": {
             "colorbar": {
              "outlinewidth": 0,
              "ticks": ""
             }
            },
            "type": "parcoords"
           }
          ],
          "pie": [
           {
            "automargin": true,
            "type": "pie"
           }
          ],
          "scatter": [
           {
            "fillpattern": {
             "fillmode": "overlay",
             "size": 10,
             "solidity": 0.2
            },
            "type": "scatter"
           }
          ],
          "scatter3d": [
           {
            "line": {
             "colorbar": {
              "outlinewidth": 0,
              "ticks": ""
             }
            },
            "marker": {
             "colorbar": {
              "outlinewidth": 0,
              "ticks": ""
             }
            },
            "type": "scatter3d"
           }
          ],
          "scattercarpet": [
           {
            "marker": {
             "colorbar": {
              "outlinewidth": 0,
              "ticks": ""
             }
            },
            "type": "scattercarpet"
           }
          ],
          "scattergeo": [
           {
            "marker": {
             "colorbar": {
              "outlinewidth": 0,
              "ticks": ""
             }
            },
            "type": "scattergeo"
           }
          ],
          "scattergl": [
           {
            "marker": {
             "colorbar": {
              "outlinewidth": 0,
              "ticks": ""
             }
            },
            "type": "scattergl"
           }
          ],
          "scattermap": [
           {
            "marker": {
             "colorbar": {
              "outlinewidth": 0,
              "ticks": ""
             }
            },
            "type": "scattermap"
           }
          ],
          "scattermapbox": [
           {
            "marker": {
             "colorbar": {
              "outlinewidth": 0,
              "ticks": ""
             }
            },
            "type": "scattermapbox"
           }
          ],
          "scatterpolar": [
           {
            "marker": {
             "colorbar": {
              "outlinewidth": 0,
              "ticks": ""
             }
            },
            "type": "scatterpolar"
           }
          ],
          "scatterpolargl": [
           {
            "marker": {
             "colorbar": {
              "outlinewidth": 0,
              "ticks": ""
             }
            },
            "type": "scatterpolargl"
           }
          ],
          "scatterternary": [
           {
            "marker": {
             "colorbar": {
              "outlinewidth": 0,
              "ticks": ""
             }
            },
            "type": "scatterternary"
           }
          ],
          "surface": [
           {
            "colorbar": {
             "outlinewidth": 0,
             "ticks": ""
            },
            "colorscale": [
             [
              0,
              "#0d0887"
             ],
             [
              0.1111111111111111,
              "#46039f"
             ],
             [
              0.2222222222222222,
              "#7201a8"
             ],
             [
              0.3333333333333333,
              "#9c179e"
             ],
             [
              0.4444444444444444,
              "#bd3786"
             ],
             [
              0.5555555555555556,
              "#d8576b"
             ],
             [
              0.6666666666666666,
              "#ed7953"
             ],
             [
              0.7777777777777778,
              "#fb9f3a"
             ],
             [
              0.8888888888888888,
              "#fdca26"
             ],
             [
              1,
              "#f0f921"
             ]
            ],
            "type": "surface"
           }
          ],
          "table": [
           {
            "cells": {
             "fill": {
              "color": "#EBF0F8"
             },
             "line": {
              "color": "white"
             }
            },
            "header": {
             "fill": {
              "color": "#C8D4E3"
             },
             "line": {
              "color": "white"
             }
            },
            "type": "table"
           }
          ]
         },
         "layout": {
          "annotationdefaults": {
           "arrowcolor": "#2a3f5f",
           "arrowhead": 0,
           "arrowwidth": 1
          },
          "autotypenumbers": "strict",
          "coloraxis": {
           "colorbar": {
            "outlinewidth": 0,
            "ticks": ""
           }
          },
          "colorscale": {
           "diverging": [
            [
             0,
             "#8e0152"
            ],
            [
             0.1,
             "#c51b7d"
            ],
            [
             0.2,
             "#de77ae"
            ],
            [
             0.3,
             "#f1b6da"
            ],
            [
             0.4,
             "#fde0ef"
            ],
            [
             0.5,
             "#f7f7f7"
            ],
            [
             0.6,
             "#e6f5d0"
            ],
            [
             0.7,
             "#b8e186"
            ],
            [
             0.8,
             "#7fbc41"
            ],
            [
             0.9,
             "#4d9221"
            ],
            [
             1,
             "#276419"
            ]
           ],
           "sequential": [
            [
             0,
             "#0d0887"
            ],
            [
             0.1111111111111111,
             "#46039f"
            ],
            [
             0.2222222222222222,
             "#7201a8"
            ],
            [
             0.3333333333333333,
             "#9c179e"
            ],
            [
             0.4444444444444444,
             "#bd3786"
            ],
            [
             0.5555555555555556,
             "#d8576b"
            ],
            [
             0.6666666666666666,
             "#ed7953"
            ],
            [
             0.7777777777777778,
             "#fb9f3a"
            ],
            [
             0.8888888888888888,
             "#fdca26"
            ],
            [
             1,
             "#f0f921"
            ]
           ],
           "sequentialminus": [
            [
             0,
             "#0d0887"
            ],
            [
             0.1111111111111111,
             "#46039f"
            ],
            [
             0.2222222222222222,
             "#7201a8"
            ],
            [
             0.3333333333333333,
             "#9c179e"
            ],
            [
             0.4444444444444444,
             "#bd3786"
            ],
            [
             0.5555555555555556,
             "#d8576b"
            ],
            [
             0.6666666666666666,
             "#ed7953"
            ],
            [
             0.7777777777777778,
             "#fb9f3a"
            ],
            [
             0.8888888888888888,
             "#fdca26"
            ],
            [
             1,
             "#f0f921"
            ]
           ]
          },
          "colorway": [
           "#636efa",
           "#EF553B",
           "#00cc96",
           "#ab63fa",
           "#FFA15A",
           "#19d3f3",
           "#FF6692",
           "#B6E880",
           "#FF97FF",
           "#FECB52"
          ],
          "font": {
           "color": "#2a3f5f"
          },
          "geo": {
           "bgcolor": "white",
           "lakecolor": "white",
           "landcolor": "#E5ECF6",
           "showlakes": true,
           "showland": true,
           "subunitcolor": "white"
          },
          "hoverlabel": {
           "align": "left"
          },
          "hovermode": "closest",
          "mapbox": {
           "style": "light"
          },
          "paper_bgcolor": "white",
          "plot_bgcolor": "#E5ECF6",
          "polar": {
           "angularaxis": {
            "gridcolor": "white",
            "linecolor": "white",
            "ticks": ""
           },
           "bgcolor": "#E5ECF6",
           "radialaxis": {
            "gridcolor": "white",
            "linecolor": "white",
            "ticks": ""
           }
          },
          "scene": {
           "xaxis": {
            "backgroundcolor": "#E5ECF6",
            "gridcolor": "white",
            "gridwidth": 2,
            "linecolor": "white",
            "showbackground": true,
            "ticks": "",
            "zerolinecolor": "white"
           },
           "yaxis": {
            "backgroundcolor": "#E5ECF6",
            "gridcolor": "white",
            "gridwidth": 2,
            "linecolor": "white",
            "showbackground": true,
            "ticks": "",
            "zerolinecolor": "white"
           },
           "zaxis": {
            "backgroundcolor": "#E5ECF6",
            "gridcolor": "white",
            "gridwidth": 2,
            "linecolor": "white",
            "showbackground": true,
            "ticks": "",
            "zerolinecolor": "white"
           }
          },
          "shapedefaults": {
           "line": {
            "color": "#2a3f5f"
           }
          },
          "ternary": {
           "aaxis": {
            "gridcolor": "white",
            "linecolor": "white",
            "ticks": ""
           },
           "baxis": {
            "gridcolor": "white",
            "linecolor": "white",
            "ticks": ""
           },
           "bgcolor": "#E5ECF6",
           "caxis": {
            "gridcolor": "white",
            "linecolor": "white",
            "ticks": ""
           }
          },
          "title": {
           "x": 0.05
          },
          "xaxis": {
           "automargin": true,
           "gridcolor": "white",
           "linecolor": "white",
           "ticks": "",
           "title": {
            "standoff": 15
           },
           "zerolinecolor": "white",
           "zerolinewidth": 2
          },
          "yaxis": {
           "automargin": true,
           "gridcolor": "white",
           "linecolor": "white",
           "ticks": "",
           "title": {
            "standoff": 15
           },
           "zerolinecolor": "white",
           "zerolinewidth": 2
          }
         }
        },
        "title": {
         "text": "Loan Amt by Purpose"
        },
        "xaxis": {
         "anchor": "y",
         "domain": [
          0,
          1
         ],
         "title": {
          "text": "Purpose"
         }
        },
        "yaxis": {
         "anchor": "x",
         "domain": [
          0,
          1
         ],
         "title": {
          "text": "Loan_Amount"
         }
        }
       }
      }
     },
     "metadata": {},
     "output_type": "display_data"
    }
   ],
   "source": [
    "pur= df.groupby('Purpose')['Loan_Amount'].sum().sort_values(ascending=False).reset_index()\n",
    "px.bar(pur, x= 'Purpose', y = 'Loan_Amount', title= 'Loan Amt by Purpose')"
   ]
  },
  {
   "cell_type": "code",
   "execution_count": 30,
   "metadata": {
    "colab": {
     "base_uri": "https://localhost:8080/",
     "height": 546
    },
    "executionInfo": {
     "elapsed": 703,
     "status": "ok",
     "timestamp": 1753359410085,
     "user": {
      "displayName": "Bhishmadev Naskar",
      "userId": "11287888678306979437"
     },
     "user_tz": -330
    },
    "id": "y49D_39ITRno",
    "outputId": "44c14c04-1cdc-462e-95f1-1b78e9aad8d1"
   },
   "outputs": [
    {
     "data": {
      "text/plain": [
       "Text(0.5, 1.0, 'Relation between Total Payment vs Loan Amount')"
      ]
     },
     "execution_count": 30,
     "metadata": {},
     "output_type": "execute_result"
    },
    {
     "data": {
      "image/png": "[encoded data removed]",
      "text/plain": [
       "<Figure size 500x500 with 1 Axes>"
      ]
     },
     "metadata": {},
     "output_type": "display_data"
    }
   ],
   "source": [
    "rela = df.groupby('Loan_Amount')['Total_Payment'].sum().reset_index()\n",
    "sns.lmplot(rela,x ='Loan_Amount', y = 'Total_Payment')\n",
    "plt.title('Relation between Total Payment vs Loan Amount')"
   ]
  },
  {
   "cell_type": "code",
   "execution_count": 31,
   "metadata": {
    "colab": {
     "base_uri": "https://localhost:8080/",
     "height": 467
    },
    "executionInfo": {
     "elapsed": 347,
     "status": "ok",
     "timestamp": 1753360685931,
     "user": {
      "displayName": "Bhishmadev Naskar",
      "userId": "11287888678306979437"
     },
     "user_tz": -330
    },
    "id": "T3eLY-K2XV-O",
    "outputId": "ea81aa9e-a34d-43f6-af9b-b3e6c8e8fd34"
   },
   "outputs": [
    {
     "name": "stderr",
     "output_type": "stream",
     "text": [
      "C:\\Users\\bhish\\AppData\\Local\\Temp\\ipykernel_17196\\3897577626.py:1: FutureWarning:\n",
      "\n",
      "\n",
      "\n",
      "Passing `palette` without assigning `hue` is deprecated and will be removed in v0.14.0. Assign the `x` variable to `hue` and set `legend=False` for the same effect.\n",
      "\n",
      "\n"
     ]
    },
    {
     "data": {
      "text/plain": [
       "<Axes: xlabel='Home_Ownership', ylabel='count'>"
      ]
     },
     "execution_count": 31,
     "metadata": {},
     "output_type": "execute_result"
    },
    {
     "data": {
      "image/png": "[encoded data removed]",
      "text/plain": [
       "<Figure size 640x480 with 1 Axes>"
      ]
     },
     "metadata": {},
     "output_type": "display_data"
    }
   ],
   "source": [
    "sns.countplot(df,x='Home_Ownership' , palette='rainbow')"
   ]
  },
  {
   "cell_type": "code",
   "execution_count": 32,
   "metadata": {
    "colab": {
     "base_uri": "https://localhost:8080/",
     "height": 466
    },
    "executionInfo": {
     "elapsed": 194,
     "status": "ok",
     "timestamp": 1753360754736,
     "user": {
      "displayName": "Bhishmadev Naskar",
      "userId": "11287888678306979437"
     },
     "user_tz": -330
    },
    "id": "4tgVswP4cNi1",
    "outputId": "66826fdb-2ef7-4990-f174-3d597fed96a3"
   },
   "outputs": [
    {
     "name": "stderr",
     "output_type": "stream",
     "text": [
      "C:\\Users\\bhish\\AppData\\Local\\Temp\\ipykernel_17196\\4004922158.py:1: FutureWarning:\n",
      "\n",
      "\n",
      "\n",
      "Passing `palette` without assigning `hue` is deprecated and will be removed in v0.14.0. Assign the `x` variable to `hue` and set `legend=False` for the same effect.\n",
      "\n",
      "\n"
     ]
    },
    {
     "data": {
      "text/plain": [
       "<Axes: xlabel='Term', ylabel='count'>"
      ]
     },
     "execution_count": 32,
     "metadata": {},
     "output_type": "execute_result"
    },
    {
     "data": {
      "image/png": "[encoded data removed]",
      "text/plain": [
       "<Figure size 640x480 with 1 Axes>"
      ]
     },
     "metadata": {},
     "output_type": "display_data"
    }
   ],
   "source": [
    "sns.countplot(df, x= 'Term' , palette='rainbow')"
   ]
  },
  {
   "cell_type": "code",
   "execution_count": 34,
   "metadata": {
    "colab": {
     "base_uri": "https://localhost:8080/",
     "height": 467
    },
    "executionInfo": {
     "elapsed": 336,
     "status": "ok",
     "timestamp": 1753360865414,
     "user": {
      "displayName": "Bhishmadev Naskar",
      "userId": "11287888678306979437"
     },
     "user_tz": -330
    },
    "id": "DfrsVRXYceYk",
    "outputId": "7792b699-7470-4f01-9a91-5aaa23ed9104"
   },
   "outputs": [
    {
     "name": "stderr",
     "output_type": "stream",
     "text": [
      "C:\\Users\\bhish\\AppData\\Local\\Temp\\ipykernel_17196\\2731472388.py:1: FutureWarning:\n",
      "\n",
      "\n",
      "\n",
      "Passing `palette` without assigning `hue` is deprecated and will be removed in v0.14.0. Assign the `x` variable to `hue` and set `legend=False` for the same effect.\n",
      "\n",
      "\n"
     ]
    },
    {
     "data": {
      "text/plain": [
       "<Axes: xlabel='Verification_Status', ylabel='count'>"
      ]
     },
     "execution_count": 34,
     "metadata": {},
     "output_type": "execute_result"
    },
    {
     "data": {
      "image/png": "[encoded data removed]",
      "text/plain": [
       "<Figure size 640x480 with 1 Axes>"
      ]
     },
     "metadata": {},
     "output_type": "display_data"
    }
   ],
   "source": [
    "sns.countplot(df, x='Verification_Status' , palette='rainbow')"
   ]
  },
  {
   "cell_type": "code",
   "execution_count": 35,
   "metadata": {},
   "outputs": [],
   "source": [
    "df.to_csv('Bank_Loan.csv', index=False)"
   ]
  }
 ],
 "metadata": {
  "colab": {
   "authorship_tag": "ABX9TyOS1xN9unHNVL7Y2Ypz9D0M",
   "provenance": []
  },
  "kernelspec": {
   "display_name": "Python 3",
   "name": "python3"
  },
  "language_info": {
   "codemirror_mode": {
    "name": "ipython",
    "version": 3
   },
   "file_extension": ".py",
   "mimetype": "text/x-python",
   "name": "python",
   "nbconvert_exporter": "python",
   "pygments_lexer": "ipython3",
   "version": "3.13.2"
  }
 },
 "nbformat": 4,
 "nbformat_minor": 0
}
